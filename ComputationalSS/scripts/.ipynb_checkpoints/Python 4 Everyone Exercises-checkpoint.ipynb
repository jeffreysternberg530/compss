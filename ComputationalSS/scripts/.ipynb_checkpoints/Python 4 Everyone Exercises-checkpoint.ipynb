{
 "cells": [
  {
   "cell_type": "code",
   "execution_count": null,
   "metadata": {
    "collapsed": true
   },
   "outputs": [],
   "source": [
    "5\n",
    "x = 5\n",
    "x + 1"
   ]
  },
  {
   "cell_type": "code",
   "execution_count": null,
   "metadata": {
    "collapsed": true
   },
   "outputs": [],
   "source": [
    "print(x)"
   ]
  },
  {
   "cell_type": "code",
   "execution_count": null,
   "metadata": {
    "collapsed": true
   },
   "outputs": [],
   "source": [
    "y = 7\n",
    "x + y"
   ]
  },
  {
   "cell_type": "code",
   "execution_count": null,
   "metadata": {
    "collapsed": true
   },
   "outputs": [],
   "source": [
    "x*y"
   ]
  },
  {
   "cell_type": "code",
   "execution_count": null,
   "metadata": {
    "collapsed": true
   },
   "outputs": [],
   "source": [
    "x**y"
   ]
  },
  {
   "cell_type": "code",
   "execution_count": null,
   "metadata": {
    "collapsed": true
   },
   "outputs": [],
   "source": [
    "y/x"
   ]
  },
  {
   "cell_type": "code",
   "execution_count": null,
   "metadata": {
    "collapsed": true
   },
   "outputs": [],
   "source": [
    "y//x"
   ]
  },
  {
   "cell_type": "markdown",
   "metadata": {},
   "source": [
    "## Chapter 2"
   ]
  },
  {
   "cell_type": "markdown",
   "metadata": {},
   "source": [
    "### Exercise 2"
   ]
  },
  {
   "cell_type": "code",
   "execution_count": null,
   "metadata": {
    "collapsed": true
   },
   "outputs": [],
   "source": [
    "name = input('What is your name?\\n')\n",
    "print(name)"
   ]
  },
  {
   "cell_type": "markdown",
   "metadata": {},
   "source": [
    "### Exercise 3"
   ]
  },
  {
   "cell_type": "code",
   "execution_count": null,
   "metadata": {
    "collapsed": true
   },
   "outputs": [],
   "source": [
    "hours = input('How many hours did you work this week?\\n')\n",
    "rate = input('What is your hourly rate?\\n')\n",
    "pay = round(float(hours)*float(rate))\n",
    "print(pay)"
   ]
  },
  {
   "cell_type": "markdown",
   "metadata": {},
   "source": [
    "### Exercise 4"
   ]
  },
  {
   "cell_type": "code",
   "execution_count": null,
   "metadata": {
    "collapsed": true
   },
   "outputs": [],
   "source": [
    "width = 17\n",
    "height = 12\n",
    "width//2"
   ]
  },
  {
   "cell_type": "code",
   "execution_count": null,
   "metadata": {
    "collapsed": true
   },
   "outputs": [],
   "source": [
    "width/2.0"
   ]
  },
  {
   "cell_type": "code",
   "execution_count": null,
   "metadata": {
    "collapsed": true
   },
   "outputs": [],
   "source": [
    "height/3"
   ]
  },
  {
   "cell_type": "code",
   "execution_count": null,
   "metadata": {
    "collapsed": true
   },
   "outputs": [],
   "source": [
    "1+2*5"
   ]
  },
  {
   "cell_type": "markdown",
   "metadata": {},
   "source": [
    "### Exercise 5"
   ]
  },
  {
   "cell_type": "code",
   "execution_count": null,
   "metadata": {
    "collapsed": true
   },
   "outputs": [],
   "source": [
    "print('Celsius to Fahrenheit Calculator')\n",
    "celsius = input('What is the temperature in Celsius?\\n')\n",
    "fahrenheit = (float(celsius)*1.8)+32\n",
    "print(fahrenheit)"
   ]
  },
  {
   "cell_type": "code",
   "execution_count": null,
   "metadata": {
    "collapsed": true
   },
   "outputs": [],
   "source": [
    "#Exercise 5 Alt\n",
    "print('Celsius to Fahrenheit Calculator')\n",
    "celsius = float(input('What is the temperature in Celsius?\\n'))\n",
    "fahrenheit = (celsius*1.8)+32\n",
    "print(fahrenheit)"
   ]
  },
  {
   "cell_type": "code",
   "execution_count": null,
   "metadata": {
    "collapsed": true
   },
   "outputs": [],
   "source": [
    "#Exercise 5 Try/Except\n",
    "inp = input('Enter Celsius Temperature:\\n')\n",
    "try:\n",
    "    cel = float (inp)\n",
    "    fahr = (cel*1.8)+32\n",
    "    print(fahr)\n",
    "except: \n",
    "    print('Please Enter a Number')"
   ]
  },
  {
   "cell_type": "markdown",
   "metadata": {},
   "source": [
    "## Chapter 3 Exercises ##"
   ]
  },
  {
   "cell_type": "markdown",
   "metadata": {},
   "source": [
    "### Exercise 1 ###"
   ]
  },
  {
   "cell_type": "code",
   "execution_count": null,
   "metadata": {
    "collapsed": true,
    "scrolled": true
   },
   "outputs": [],
   "source": [
    "hours = float(input('How many hours did you work this week?\\n'))\n",
    "rate = float(input('What is your hourly rate?\\n'))\n",
    "\n",
    "if hours <= 40:\n",
    "    pay = hours*rate\n",
    "    print(pay)\n",
    "elif hours > 40:\n",
    "    pay = (rate*40)+((hours-40)*(rate*1.5))\n",
    "    print(pay)"
   ]
  },
  {
   "cell_type": "markdown",
   "metadata": {},
   "source": [
    "### Exercise 2"
   ]
  },
  {
   "cell_type": "code",
   "execution_count": null,
   "metadata": {
    "collapsed": true
   },
   "outputs": [],
   "source": [
    "try:\n",
    "    hours = float(input('How many hours did you work this week?\\n'))\n",
    "except:\n",
    "    print('Error, please enter numeric input')\n",
    "    hours = float(input('How many hours did you work this week?\\n'))\n",
    "try:\n",
    "    rate = float(input('What is your hourly rate?\\n'))\n",
    "except:\n",
    "    print('Error, please enter numeric input')\n",
    "    rate = float(input('What is your hourly rate?\\n'))\n",
    "\n",
    "if hours <= 40:\n",
    "    pay = hours*rate\n",
    "    print(pay)\n",
    "elif hours > 40:\n",
    "    pay = (rate*40)+((hours-40)*(rate*1.5))\n",
    "    print(pay)"
   ]
  },
  {
   "cell_type": "markdown",
   "metadata": {},
   "source": [
    "### Exercise 3"
   ]
  },
  {
   "cell_type": "code",
   "execution_count": null,
   "metadata": {
    "collapsed": true
   },
   "outputs": [],
   "source": [
    "try:\n",
    "    score = float(input('Enter Score\\n'))\n",
    "\n",
    "except:\n",
    "    print('Bad Score')\n",
    "    score = float(input('Enter Score\\n'))\n",
    "    \n",
    "\n",
    "if score>1.0 or score<0.0:\n",
    "    print('Bad Score')\n",
    "else:\n",
    "    if score >= 0.9:\n",
    "        print('A')\n",
    "    elif score >= 0.8:\n",
    "        print('B')\n",
    "    elif score >= 0.7:\n",
    "        print ('C')\n",
    "    elif score >= 0.6:\n",
    "        print('D')\n",
    "    elif score < 0.6:\n",
    "        print(\"F\")\n",
    "\n",
    "\n",
    "            "
   ]
  },
  {
   "cell_type": "code",
   "execution_count": null,
   "metadata": {
    "collapsed": true
   },
   "outputs": [],
   "source": [
    "x = 43\n",
    "x = x+1\n",
    "print(x)"
   ]
  },
  {
   "cell_type": "markdown",
   "metadata": {},
   "source": [
    "## Chapter 4 Exercises"
   ]
  },
  {
   "cell_type": "markdown",
   "metadata": {},
   "source": [
    "### Exercise 1"
   ]
  },
  {
   "cell_type": "code",
   "execution_count": null,
   "metadata": {
    "collapsed": true
   },
   "outputs": [],
   "source": [
    "import random\n",
    "\n",
    "for i in range(10):\n",
    "    x = random.random()\n",
    "    print (x)"
   ]
  },
  {
   "cell_type": "code",
   "execution_count": null,
   "metadata": {
    "collapsed": true
   },
   "outputs": [],
   "source": [
    "for i in range(5):\n",
    "    x = random.randint(5,10)\n",
    "    print(x)"
   ]
  },
  {
   "cell_type": "code",
   "execution_count": null,
   "metadata": {
    "collapsed": true
   },
   "outputs": [],
   "source": [
    "for i in range(3):\n",
    "    t = [1,2,3]\n",
    "    x = random.choice(t)\n",
    "    print(x)\n"
   ]
  },
  {
   "cell_type": "markdown",
   "metadata": {},
   "source": [
    "### Math functions"
   ]
  },
  {
   "cell_type": "code",
   "execution_count": null,
   "metadata": {
    "collapsed": true
   },
   "outputs": [],
   "source": [
    "import math"
   ]
  },
  {
   "cell_type": "code",
   "execution_count": null,
   "metadata": {
    "collapsed": true
   },
   "outputs": [],
   "source": [
    "print(math)"
   ]
  },
  {
   "cell_type": "code",
   "execution_count": null,
   "metadata": {
    "collapsed": true
   },
   "outputs": [],
   "source": [
    "degrees = 45\n",
    "radians = degrees/360.0*2*math.pi\n",
    "math.sin(radians)"
   ]
  },
  {
   "cell_type": "code",
   "execution_count": null,
   "metadata": {
    "collapsed": true
   },
   "outputs": [],
   "source": [
    "math.sqrt(2)/2.0"
   ]
  },
  {
   "cell_type": "code",
   "execution_count": null,
   "metadata": {
    "collapsed": true
   },
   "outputs": [],
   "source": [
    "def print_lyrics():\n",
    "    print(\"I'm a lumberjack, and I'm okay.\")\n",
    "    print('I sleep all night and I work all day.')\n",
    "    \n",
    "    "
   ]
  },
  {
   "cell_type": "code",
   "execution_count": null,
   "metadata": {
    "collapsed": true
   },
   "outputs": [],
   "source": [
    "print(print_lyrics)"
   ]
  },
  {
   "cell_type": "code",
   "execution_count": null,
   "metadata": {
    "collapsed": true
   },
   "outputs": [],
   "source": [
    "print(type(print_lyrics))"
   ]
  },
  {
   "cell_type": "code",
   "execution_count": null,
   "metadata": {
    "collapsed": true
   },
   "outputs": [],
   "source": [
    "print_lyrics()"
   ]
  },
  {
   "cell_type": "code",
   "execution_count": null,
   "metadata": {
    "collapsed": true
   },
   "outputs": [],
   "source": [
    "def repeat_lyrics():\n",
    "    print_lyrics()\n",
    "    print_lyrics()\n",
    "    \n",
    "repeat_lyrics()"
   ]
  },
  {
   "cell_type": "markdown",
   "metadata": {},
   "source": [
    "### Exercise 2"
   ]
  },
  {
   "cell_type": "code",
   "execution_count": null,
   "metadata": {
    "collapsed": true
   },
   "outputs": [],
   "source": [
    "repeat_lyrics()\n",
    "\n",
    "def print_lyrics():\n",
    "    print(\"I'm a lumberjack, and I'm okay.\")\n",
    "    print('I sleep all night and I work all day')\n",
    "    \n",
    "def repeat_lyrics():\n",
    "    print_lyrics()\n",
    "    print_lyrics()\n",
    "    \n"
   ]
  },
  {
   "cell_type": "markdown",
   "metadata": {},
   "source": [
    "### Exercise 3"
   ]
  },
  {
   "cell_type": "code",
   "execution_count": null,
   "metadata": {
    "collapsed": true
   },
   "outputs": [],
   "source": [
    "def repeat_lyrics():\n",
    "    print_lyrics()\n",
    "    print_lyrics()\n",
    "    \n",
    "def print_lyrics():\n",
    "    print(\"I'm a lumberjack, and I'm okay.\")\n",
    "    print('I sleep all night and I work all day')\n",
    "    \n",
    "repeat_lyrics()"
   ]
  },
  {
   "cell_type": "markdown",
   "metadata": {},
   "source": [
    "## Parameters and arguments"
   ]
  },
  {
   "cell_type": "code",
   "execution_count": null,
   "metadata": {
    "collapsed": true
   },
   "outputs": [],
   "source": [
    "def print_twice(bruce):\n",
    "    print(bruce)\n",
    "    print(bruce)\n",
    "    \n",
    "print_twice('Spam')\n",
    "print_twice(17)\n",
    "import math\n",
    "print_twice(math.pi)"
   ]
  },
  {
   "cell_type": "code",
   "execution_count": null,
   "metadata": {
    "collapsed": true
   },
   "outputs": [],
   "source": [
    "print_twice('Spam '*4)"
   ]
  },
  {
   "cell_type": "code",
   "execution_count": null,
   "metadata": {
    "collapsed": true
   },
   "outputs": [],
   "source": [
    "print_twice(math.cos(math.pi))"
   ]
  },
  {
   "cell_type": "code",
   "execution_count": null,
   "metadata": {
    "collapsed": true
   },
   "outputs": [],
   "source": [
    "michael = 'Eric, the half a bee'\n",
    "print_twice(michael)"
   ]
  },
  {
   "cell_type": "markdown",
   "metadata": {},
   "source": [
    "### Fruitful Functions and void function"
   ]
  },
  {
   "cell_type": "code",
   "execution_count": null,
   "metadata": {
    "collapsed": true
   },
   "outputs": [],
   "source": [
    "x = math.cos(radians)\n",
    "golden = (math.sqrt(5)+1)/2\n",
    "\n",
    "print(x)\n",
    "print(golden)"
   ]
  },
  {
   "cell_type": "code",
   "execution_count": null,
   "metadata": {
    "collapsed": true
   },
   "outputs": [],
   "source": [
    "def addtwo(a,b):\n",
    "    added = a+b\n",
    "    return added\n",
    "\n",
    "x = addtwo(3,5)\n",
    "print(x)"
   ]
  },
  {
   "cell_type": "markdown",
   "metadata": {},
   "source": [
    "### Exercise 4"
   ]
  },
  {
   "cell_type": "markdown",
   "metadata": {},
   "source": [
    "d) b and c are both true"
   ]
  },
  {
   "cell_type": "markdown",
   "metadata": {},
   "source": [
    "### Exercise 5"
   ]
  },
  {
   "cell_type": "code",
   "execution_count": null,
   "metadata": {
    "collapsed": true
   },
   "outputs": [],
   "source": [
    "def fred():\n",
    "    print('Zap')\n",
    "    \n",
    "def jane():\n",
    "    print('ABC')\n",
    "    \n",
    "jane()\n",
    "fred()\n",
    "jane()"
   ]
  },
  {
   "cell_type": "markdown",
   "metadata": {},
   "source": [
    "d) ABC, Zap, ABC"
   ]
  },
  {
   "cell_type": "markdown",
   "metadata": {},
   "source": [
    "### Exercise 6"
   ]
  },
  {
   "cell_type": "code",
   "execution_count": null,
   "metadata": {
    "collapsed": true
   },
   "outputs": [],
   "source": [
    "def hours():\n",
    "    h = float(input('How many hours did you work this week?\\n'))\n",
    "    return h\n",
    "\n",
    "def rate():\n",
    "    r = float(input('What is your hourly rate?\\n'))\n",
    "    return r\n",
    "    \n",
    "def pay_less():\n",
    "    pay_less = h*r\n",
    "    return pay_less\n",
    "    print(pay_less)\n",
    "\n",
    "def pay_more():\n",
    "    pay_more = (r*40)+((h-40)*(r*1.5))\n",
    "    return pay_more\n",
    "    print(pay_more)\n",
    "\n",
    "try:\n",
    "    hours()\n",
    "except:\n",
    "    print('Error, please enter numeric input')\n",
    "    hours() \n",
    "try:\n",
    "    rate() \n",
    "except:\n",
    "    print('Error, please enter numeric input')\n",
    "    rate()\n",
    "\n",
    "if h <= 40:\n",
    "    pay_less()\n",
    "elif h > 40:\n",
    "    pay_more()"
   ]
  },
  {
   "cell_type": "code",
   "execution_count": null,
   "metadata": {
    "collapsed": true
   },
   "outputs": [],
   "source": [
    "def hours():\n",
    "    try:\n",
    "        hours = float(input('Enter Hours:'))\n",
    "        return hours\n",
    "    except:\n",
    "        print('Error, please enter numeric input')\n",
    "        hours = float(input('Enter Hours:'))\n",
    "        return hours\n",
    "def rate():\n",
    "    try:\n",
    "        rate = float(input('Enter Rate:'))\n",
    "        return rate\n",
    "    except:\n",
    "        print('Error, please enter numeric input')\n",
    "        rate = float(input('Enter Rate:'))\n",
    "        return rate\n",
    "\n",
    "def computepay(hours, rate):\n",
    "    if hours <= 40:\n",
    "        pay = hours*rate\n",
    "        print('Pay:')\n",
    "        print(pay)\n",
    "        return pay\n",
    "    elif hours > 40:\n",
    "        pay = (rate*40)+((hours-40)*(rate*1.5))\n",
    "        return pay\n",
    "        print('Pay:')\n",
    "        print(pay)\n",
    "        \n",
    "\n",
    "computepay(hours(), rate())"
   ]
  },
  {
   "cell_type": "markdown",
   "metadata": {},
   "source": [
    "### Exercise 7"
   ]
  },
  {
   "cell_type": "code",
   "execution_count": null,
   "metadata": {
    "collapsed": true
   },
   "outputs": [],
   "source": [
    "def score():\n",
    "    try:\n",
    "        score = float(input('Enter Score\\n'))\n",
    "        return score\n",
    "\n",
    "    except:\n",
    "        print('Bad Score')\n",
    "        score = float(input('Enter Score\\n'))\n",
    "        return score\n",
    "\n",
    "def computegrade(score):\n",
    "    if score>1.0 or score<0.0:\n",
    "        print('Bad Score')\n",
    "    else:\n",
    "        if score >= 0.9:\n",
    "            print('A')\n",
    "        elif score >= 0.8:\n",
    "            print('B')\n",
    "        elif score >= 0.7:\n",
    "            print ('C')\n",
    "        elif score >= 0.6:\n",
    "            print('D')\n",
    "        elif score < 0.6:\n",
    "            print(\"F\")\n",
    "            \n",
    "computegrade(score())"
   ]
  },
  {
   "cell_type": "code",
   "execution_count": null,
   "metadata": {
    "collapsed": true
   },
   "outputs": [],
   "source": [
    "n = 5\n",
    "while n>0:\n",
    "    print(n)\n",
    "    n = n-1\n",
    "\n",
    "print('Blastoff')"
   ]
  },
  {
   "cell_type": "code",
   "execution_count": null,
   "metadata": {
    "collapsed": true
   },
   "outputs": [],
   "source": [
    "while True:\n",
    "    line = input('> ')\n",
    "    if line == \"done\":\n",
    "        break\n",
    "    print(line)\n",
    "print(\"Done!\")"
   ]
  },
  {
   "cell_type": "code",
   "execution_count": null,
   "metadata": {
    "collapsed": true
   },
   "outputs": [],
   "source": [
    "friends = [\"Joseph\", \"Glenn\", \"Sally\"]\n",
    "for friend in friends:\n",
    "    print(\"Happy New Year:\", friend)\n",
    "print(\"Done!\")"
   ]
  },
  {
   "cell_type": "code",
   "execution_count": null,
   "metadata": {
    "collapsed": true
   },
   "outputs": [],
   "source": [
    "count = 0\n",
    "for itervar in [3, 41, 12, 9, 74, 15]:\n",
    "    count = count + 1\n",
    "print(\"Count: \", count)"
   ]
  },
  {
   "cell_type": "code",
   "execution_count": null,
   "metadata": {
    "collapsed": true
   },
   "outputs": [],
   "source": [
    "total = 0\n",
    "for itervar in [3, 41, 12, 9, 74, 15]:\n",
    "    total = total + itervar\n",
    "print(\"Total: \", total)"
   ]
  },
  {
   "cell_type": "code",
   "execution_count": 3,
   "metadata": {},
   "outputs": [
    {
     "name": "stdout",
     "output_type": "stream",
     "text": [
      "Before: None\n",
      "loop: 3 3\n",
      "loop: 41 41\n",
      "loop: 12 41\n",
      "loop: 9 41\n",
      "loop: 74 74\n",
      "loop: 15 74\n",
      "Largest: 74\n"
     ]
    }
   ],
   "source": [
    "largest = None\n",
    "print(\"Before:\", largest)\n",
    "for itervar in [3, 41, 12, 9, 74, 15]:\n",
    "    if largest is None or itervar > largest:\n",
    "        largest = itervar\n",
    "    print(\"loop:\", itervar, largest)\n",
    "print(\"Largest:\", largest)"
   ]
  },
  {
   "cell_type": "code",
   "execution_count": 4,
   "metadata": {},
   "outputs": [
    {
     "name": "stdout",
     "output_type": "stream",
     "text": [
      "Before: None\n",
      "loop: 3 3\n",
      "loop: 41 3\n",
      "loop: 12 3\n",
      "loop: 9 3\n",
      "loop: 74 3\n",
      "loop: 15 3\n",
      "Smallest: 3\n"
     ]
    }
   ],
   "source": [
    "smallest = None\n",
    "print(\"Before:\", smallest)\n",
    "for itervar in [3, 41, 12, 9, 74, 15]:\n",
    "    if smallest is None or itervar < smallest:\n",
    "        smallest = itervar\n",
    "    print(\"loop:\", itervar, smallest)\n",
    "print(\"Smallest:\", smallest)"
   ]
  },
  {
   "cell_type": "code",
   "execution_count": 6,
   "metadata": {},
   "outputs": [
    {
     "data": {
      "text/plain": [
       "3"
      ]
     },
     "execution_count": 6,
     "metadata": {},
     "output_type": "execute_result"
    }
   ],
   "source": [
    "def min(values):\n",
    "    smallest = None\n",
    "    for value in values:\n",
    "        if smallest is None or value < smallest:\n",
    "            smallest = value\n",
    "    return smallest\n",
    "\n",
    "values = [3, 41, 12, 9, 74, 15]\n",
    "min(values)"
   ]
  },
  {
   "cell_type": "markdown",
   "metadata": {},
   "source": [
    "## Exercise 1"
   ]
  },
  {
   "cell_type": "code",
   "execution_count": 27,
   "metadata": {},
   "outputs": [
    {
     "name": "stdout",
     "output_type": "stream",
     "text": [
      "Enter a Number: 25\n",
      "Enter a Number: 35\n",
      "Enter a Number: 45\n",
      "Enter a Number: d\n",
      "bad data\n",
      "Enter a Number: s\n",
      "bad data\n",
      "Enter a Number: e\n",
      "bad data\n",
      "Enter a Number: done\n",
      "Done!\n",
      "count:  3\n",
      "sum:  105\n",
      "average:  35.0\n"
     ]
    }
   ],
   "source": [
    "mylist = []\n",
    "\n",
    "while True:\n",
    "    num = input(\"Enter a Number: \")\n",
    "    try:\n",
    "        if num == \"done\":\n",
    "            break\n",
    "        else:\n",
    "            mylist.append(int(num))\n",
    "    except:\n",
    "        print(\"bad data\")\n",
    "print(\"Done!\")\n",
    "\n",
    "count = 0\n",
    "for itervar in mylist:\n",
    "    count = count + 1\n",
    "print(\"count: \", count)\n",
    "\n",
    "total = 0\n",
    "for itervar in mylist:\n",
    "    total = total + itervar\n",
    "print(\"sum: \", total)\n",
    "\n",
    "ave = total/count\n",
    "print(\"average: \", ave)"
   ]
  },
  {
   "cell_type": "markdown",
   "metadata": {},
   "source": [
    "### Exercise 2"
   ]
  },
  {
   "cell_type": "code",
   "execution_count": 30,
   "metadata": {},
   "outputs": [
    {
     "name": "stdout",
     "output_type": "stream",
     "text": [
      "Enter a Number: 25\n",
      "Enter a Number: 35\n",
      "Enter a Number: 45\n",
      "Enter a Number: done\n",
      "Done!\n",
      "[25, 35, 45]\n",
      "count:  3\n",
      "sum:  105\n",
      "max:  45\n",
      "min:  25\n"
     ]
    }
   ],
   "source": [
    "mylist = []\n",
    "\n",
    "while True:\n",
    "    num = input(\"Enter a Number: \")\n",
    "    try:\n",
    "        if num == \"done\":\n",
    "            break\n",
    "        else:\n",
    "            mylist.append(int(num))\n",
    "    except:\n",
    "        print(\"bad data\")\n",
    "print(\"Done!\")\n",
    "\n",
    "print(mylist)\n",
    "\n",
    "count = 0\n",
    "for itervar in mylist:\n",
    "    count = count + 1\n",
    "print(\"count: \", count)\n",
    "\n",
    "total = 0\n",
    "for itervar in mylist:\n",
    "    total = total + itervar\n",
    "print(\"sum: \", total)\n",
    "\n",
    "largest = None\n",
    "for intervar in mylist:\n",
    "    if largest is None or intervar > largest:\n",
    "        largest = intervar\n",
    "print(\"max: \", largest)\n",
    "\n",
    "smallest = None\n",
    "for intervar in mylist:\n",
    "    if smallest is None or intervar < smallest:\n",
    "        smallest = intervar\n",
    "print(\"min: \", smallest)"
   ]
  },
  {
   "cell_type": "markdown",
   "metadata": {},
   "source": [
    "## Chapter 6"
   ]
  },
  {
   "cell_type": "code",
   "execution_count": 3,
   "metadata": {},
   "outputs": [
    {
     "name": "stdout",
     "output_type": "stream",
     "text": [
      "0 b\n",
      "1 a\n",
      "2 n\n",
      "3 a\n",
      "4 n\n",
      "5 a\n"
     ]
    }
   ],
   "source": [
    "fruit = \"banana\"\n",
    "index = 0\n",
    "while index < len(fruit):\n",
    "    letter = fruit[index]\n",
    "    print(index, letter)\n",
    "    index = index + 1"
   ]
  },
  {
   "cell_type": "markdown",
   "metadata": {},
   "source": [
    "### Exercise 1"
   ]
  },
  {
   "cell_type": "code",
   "execution_count": 4,
   "metadata": {},
   "outputs": [
    {
     "name": "stdout",
     "output_type": "stream",
     "text": [
      "a\n",
      "n\n",
      "a\n",
      "n\n",
      "a\n",
      "b\n"
     ]
    }
   ],
   "source": [
    "fruit = \"banana\"\n",
    "index = len(fruit) - 1\n",
    "while index > -1:\n",
    "    letter = fruit[index]\n",
    "    print(letter)\n",
    "    index = index - 1"
   ]
  },
  {
   "cell_type": "code",
   "execution_count": 5,
   "metadata": {},
   "outputs": [
    {
     "name": "stdout",
     "output_type": "stream",
     "text": [
      "b\n",
      "a\n",
      "n\n",
      "a\n",
      "n\n",
      "a\n"
     ]
    }
   ],
   "source": [
    "fruit = \"banana\"\n",
    "for char in fruit:\n",
    "    print(char)"
   ]
  },
  {
   "cell_type": "code",
   "execution_count": 6,
   "metadata": {},
   "outputs": [
    {
     "name": "stdout",
     "output_type": "stream",
     "text": [
      "Monty \n",
      "Python\n"
     ]
    }
   ],
   "source": [
    "s = \"Monty Python\"\n",
    "print(s[0:6])\n",
    "print(s[6:12])"
   ]
  },
  {
   "cell_type": "markdown",
   "metadata": {},
   "source": [
    "### Exercise 2\n",
    "\n",
    "I think that fruit[:] will give the result of a string slice of the whole string. If you leave the beginning term of the index blank, it starts at the beginning of the string. If you leave the second part of the index blank it runs to the end of the string. Therefore, it will start at the beginning of the string and end at the end of the string, making the string slice the entire string."
   ]
  },
  {
   "cell_type": "code",
   "execution_count": 7,
   "metadata": {},
   "outputs": [
    {
     "name": "stdout",
     "output_type": "stream",
     "text": [
      "banana\n"
     ]
    }
   ],
   "source": [
    "fruit = \"banana\"\n",
    "print(fruit[:])"
   ]
  },
  {
   "cell_type": "code",
   "execution_count": 9,
   "metadata": {},
   "outputs": [
    {
     "name": "stdout",
     "output_type": "stream",
     "text": [
      "3\n"
     ]
    }
   ],
   "source": [
    "word = \"banana\"\n",
    "count = 0\n",
    "for letter in word:\n",
    "    if letter == \"a\":\n",
    "        count = count + 1\n",
    "print(count)"
   ]
  },
  {
   "cell_type": "markdown",
   "metadata": {},
   "source": [
    "### Exercise 3"
   ]
  },
  {
   "cell_type": "code",
   "execution_count": 19,
   "metadata": {},
   "outputs": [
    {
     "name": "stdout",
     "output_type": "stream",
     "text": [
      "2\n"
     ]
    }
   ],
   "source": [
    "def count(word,b):\n",
    "    count = 0\n",
    "    for letter in word:\n",
    "        if letter == b:\n",
    "            count = count + 1\n",
    "    print(count)\n",
    "\n",
    "count(\"banana\",\"n\")"
   ]
  },
  {
   "cell_type": "code",
   "execution_count": 23,
   "metadata": {},
   "outputs": [
    {
     "name": "stdout",
     "output_type": "stream",
     "text": [
      "What is your word?\n",
      "pineapple\n",
      "Your word, pineapple, comes after banana.\n"
     ]
    }
   ],
   "source": [
    "word = input(\"What is your word?\\n\")\n",
    "\n",
    "if word < \"banana\":\n",
    "    print(\"Your word, \" + word+ \", comes before banana.\")\n",
    "elif word > \"banana\":\n",
    "    print(\"Your word, \" + word+ \", comes after banana.\")\n",
    "else: \n",
    "    print(\"All right, bananas\")"
   ]
  },
  {
   "cell_type": "code",
   "execution_count": 24,
   "metadata": {},
   "outputs": [
    {
     "name": "stdout",
     "output_type": "stream",
     "text": [
      "BANANA\n"
     ]
    }
   ],
   "source": [
    "word = \"banana\"\n",
    "new_word = word.upper()\n",
    "print(new_word)"
   ]
  },
  {
   "cell_type": "code",
   "execution_count": 26,
   "metadata": {},
   "outputs": [
    {
     "name": "stdout",
     "output_type": "stream",
     "text": [
      "1\n"
     ]
    }
   ],
   "source": [
    "word = \"banana\"\n",
    "index = word.find(\"a\")\n",
    "print(index)"
   ]
  },
  {
   "cell_type": "code",
   "execution_count": 27,
   "metadata": {},
   "outputs": [
    {
     "data": {
      "text/plain": [
       "'Here we Go'"
      ]
     },
     "execution_count": 27,
     "metadata": {},
     "output_type": "execute_result"
    }
   ],
   "source": [
    "line = \" Here we Go \"\n",
    "line.strip()\n"
   ]
  },
  {
   "cell_type": "markdown",
   "metadata": {},
   "source": [
    "### Exercise 4"
   ]
  },
  {
   "cell_type": "code",
   "execution_count": 30,
   "metadata": {},
   "outputs": [
    {
     "data": {
      "text/plain": [
       "2"
      ]
     },
     "execution_count": 30,
     "metadata": {},
     "output_type": "execute_result"
    }
   ],
   "source": [
    "word = \"banana\"\n",
    "word.count(\"n\")"
   ]
  },
  {
   "cell_type": "code",
   "execution_count": 32,
   "metadata": {},
   "outputs": [
    {
     "name": "stdout",
     "output_type": "stream",
     "text": [
      "21\n",
      "31\n",
      "uct.ac.za\n"
     ]
    }
   ],
   "source": [
    "data = \"From stephen.marquard@uct.ac.za Sat Jan  5 09:14:16 2008\"\n",
    "atpos = data.find(\"@\")\n",
    "print(atpos)\n",
    "sppos = data.find(\" \",atpos)\n",
    "print(sppos)\n",
    "host = data[atpos+1:sppos]\n",
    "print(host)"
   ]
  },
  {
   "cell_type": "markdown",
   "metadata": {},
   "source": [
    "### Exercise 5"
   ]
  },
  {
   "cell_type": "code",
   "execution_count": 39,
   "metadata": {},
   "outputs": [
    {
     "name": "stdout",
     "output_type": "stream",
     "text": [
      "18\n",
      "41\n",
      "0.8475\n"
     ]
    }
   ],
   "source": [
    "str = \"X-DSPAM-Confidence: 0.8475 \"\n",
    "atpos = str.find(\":\")\n",
    "print(atpos)\n",
    "sppos = data.find(\"5\",atpos)\n",
    "print(sppos)\n",
    "dec = float(str[atpos+2:sppos+1])\n",
    "print(dec)"
   ]
  },
  {
   "cell_type": "markdown",
   "metadata": {},
   "source": [
    "## Chapter 8"
   ]
  },
  {
   "cell_type": "code",
   "execution_count": 4,
   "metadata": {},
   "outputs": [
    {
     "name": "stdout",
     "output_type": "stream",
     "text": [
      "[17, 5]\n"
     ]
    }
   ],
   "source": [
    "numbers = [17, 123]\n",
    "numbers[1] = 5\n",
    "print(numbers)"
   ]
  },
  {
   "cell_type": "code",
   "execution_count": 10,
   "metadata": {},
   "outputs": [
    {
     "name": "stdout",
     "output_type": "stream",
     "text": [
      "[34, 123]\n",
      "[34, 246]\n"
     ]
    }
   ],
   "source": [
    "numbers = [17, 123]\n",
    "\n",
    "for i in range(len(numbers)):\n",
    "    numbers[i] = numbers[i]*2\n",
    "    print(numbers)"
   ]
  },
  {
   "cell_type": "code",
   "execution_count": 11,
   "metadata": {},
   "outputs": [
    {
     "name": "stdout",
     "output_type": "stream",
     "text": [
      "[1, 2, 3, 4, 5, 6]\n"
     ]
    }
   ],
   "source": [
    "a = [1, 2, 3]\n",
    "b = [4, 5, 6]\n",
    "c = a + b\n",
    "print(c)"
   ]
  },
  {
   "cell_type": "code",
   "execution_count": 12,
   "metadata": {},
   "outputs": [
    {
     "data": {
      "text/plain": [
       "[0, 0, 0, 0]"
      ]
     },
     "execution_count": 12,
     "metadata": {},
     "output_type": "execute_result"
    }
   ],
   "source": [
    "[0]*4"
   ]
  },
  {
   "cell_type": "code",
   "execution_count": 15,
   "metadata": {},
   "outputs": [
    {
     "name": "stdout",
     "output_type": "stream",
     "text": [
      "['b', 'c']\n",
      "['a', 'b', 'c', 'd']\n",
      "['d', 'e', 'f']\n"
     ]
    }
   ],
   "source": [
    "t = [\"a\", \"b\", \"c\", \"d\", \"e\", \"f\"]\n",
    "print(t[1:3])\n",
    "print(t[:4])\n",
    "print(t[3:])"
   ]
  },
  {
   "cell_type": "code",
   "execution_count": 18,
   "metadata": {},
   "outputs": [
    {
     "name": "stdout",
     "output_type": "stream",
     "text": [
      "['a', 'x', 'y', 'd', 'e', 'f']\n"
     ]
    }
   ],
   "source": [
    "t = [\"a\", \"b\", \"c\", \"d\", \"e\", \"f\"]\n",
    "t[1:3] = [\"x\", \"y\"]\n",
    "print(t)"
   ]
  },
  {
   "cell_type": "code",
   "execution_count": 19,
   "metadata": {},
   "outputs": [
    {
     "name": "stdout",
     "output_type": "stream",
     "text": [
      "['a', 'b', 'c', 'd']\n"
     ]
    }
   ],
   "source": [
    "t = [\"a\", \"b\", \"c\"]\n",
    "t.append(\"d\")\n",
    "print(t)"
   ]
  },
  {
   "cell_type": "code",
   "execution_count": 20,
   "metadata": {},
   "outputs": [
    {
     "name": "stdout",
     "output_type": "stream",
     "text": [
      "['a', 'c']\n",
      "b\n"
     ]
    }
   ],
   "source": [
    "t = [\"a\", \"b\", \"c\"]\n",
    "x = t.pop(1)\n",
    "print(t)\n",
    "print(x)"
   ]
  },
  {
   "cell_type": "code",
   "execution_count": 23,
   "metadata": {},
   "outputs": [
    {
     "name": "stdout",
     "output_type": "stream",
     "text": [
      "Enter a Number: 25\n",
      "Enter a Number: 45\n",
      "Enter a Number: 65\n",
      "Enter a Number: 76\n",
      "Enter a Number: 89\n",
      "Enter a Number: 34\n",
      "Enter a Number: done\n",
      "Average:  55.666666666666664\n"
     ]
    }
   ],
   "source": [
    "total = 0\n",
    "count = 0\n",
    "while(True):\n",
    "    inp = input(\"Enter a Number: \")\n",
    "    if inp == \"done\": break\n",
    "    value = float(inp)\n",
    "    total = total + value\n",
    "    count = count + 1\n",
    "        \n",
    "average = total/count\n",
    "print(\"Average: \", average)"
   ]
  },
  {
   "cell_type": "code",
   "execution_count": 29,
   "metadata": {},
   "outputs": [
    {
     "name": "stdout",
     "output_type": "stream",
     "text": [
      "Enter a Number: 25\n",
      "Enter a Number: 45\n",
      "Enter a Number: 65\n",
      "Enter a Number: 78\n",
      "Enter a Number: done\n",
      "Average:  53.25\n"
     ]
    }
   ],
   "source": [
    "numlist = []\n",
    "while(True):\n",
    "    inp = input(\"Enter a Number: \")\n",
    "    if inp == \"done\": break\n",
    "    value = float(inp)\n",
    "    numlist.append(value)\n",
    "    \n",
    "average = sum(numlist)/len(numlist)\n",
    "print(\"Average: \", average)"
   ]
  },
  {
   "cell_type": "code",
   "execution_count": null,
   "metadata": {
    "collapsed": true
   },
   "outputs": [],
   "source": []
  }
 ],
 "metadata": {
  "kernelspec": {
   "display_name": "Python 3",
   "language": "python",
   "name": "python3"
  },
  "language_info": {
   "codemirror_mode": {
    "name": "ipython",
    "version": 3
   },
   "file_extension": ".py",
   "mimetype": "text/x-python",
   "name": "python",
   "nbconvert_exporter": "python",
   "pygments_lexer": "ipython3",
   "version": "3.6.3"
  }
 },
 "nbformat": 4,
 "nbformat_minor": 2
}
