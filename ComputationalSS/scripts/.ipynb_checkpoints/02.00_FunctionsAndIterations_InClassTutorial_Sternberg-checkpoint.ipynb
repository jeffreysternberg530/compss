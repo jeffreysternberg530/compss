{
 "cells": [
  {
   "cell_type": "markdown",
   "metadata": {},
   "source": [
    "# Python for Everybody: Functions and Lists\n",
    "\n",
    "In this notebook we will together walk through the examples and exercises in [*Python for Everybody* Chapter 4](https://www.py4e.com/html3/04-functions) and [*Python for Everybody* Chapter 5](https://www.py4e.com/html3/05-iterations)\n",
    "\n",
    "## Learning Goals\n",
    "* Get really comfortable with functions, and using them in practice\n",
    "* Understand iteration in Python, and how the `for` loop works.\n",
    "* Work through exercises to get more comfortable writing `for` loops.\n",
    "* Start to put together logical operations, conditionals, functions, and for loops to write more sophisticated code."
   ]
  },
  {
   "cell_type": "markdown",
   "metadata": {},
   "source": [
    "# Part 1: Functions\n",
    "\n",
    "## Function Calls\n",
    "\n",
    "In the context of programming, a *function* is a named sequence of statements that performs a computation. When you define a function, you specify the name and the sequence of statements. Later, you can \"call\" the function by name. We have already seen a few examples of a function call:"
   ]
  },
  {
   "cell_type": "code",
   "execution_count": 2,
   "metadata": {},
   "outputs": [
    {
     "data": {
      "text/plain": [
       "int"
      ]
     },
     "execution_count": 2,
     "metadata": {},
     "output_type": "execute_result"
    }
   ],
   "source": [
    "type(32)"
   ]
  },
  {
   "cell_type": "code",
   "execution_count": 3,
   "metadata": {},
   "outputs": [
    {
     "name": "stdout",
     "output_type": "stream",
     "text": [
      "Hello, World!\n"
     ]
    }
   ],
   "source": [
    "print(\"Hello, World!\")"
   ]
  },
  {
   "cell_type": "markdown",
   "metadata": {},
   "source": [
    "The name of the first function is `type`. The expression in parentheses is called the argument of the function. The argument is a value or variable that we are passing into the function as input to the function. The result, for the type function, is the type of the argument.\n",
    "\n",
    "It is common to say that a function \"takes\" an argument and \"returns\" a result. The result is called the return value.\n",
    "\n",
    "Similar for the `print` function."
   ]
  },
  {
   "cell_type": "markdown",
   "metadata": {},
   "source": [
    "### Built-In Functions\n",
    "\n",
    "The creators of Python wrote a set of functions to solve common problems and included them in Python for us to use without needing to provide the function definition.\n",
    "\n",
    "[Here's a long list of built-in functions in Python](http://archive.oreilly.com/oreillyschool/courses/Python1/Python1-10.html). We won't use all of these. \n",
    "\n",
    "For example, the max and min functions give us the largest and smallest values in a list, respectively:"
   ]
  },
  {
   "cell_type": "code",
   "execution_count": 4,
   "metadata": {},
   "outputs": [
    {
     "data": {
      "text/plain": [
       "2999"
      ]
     },
     "execution_count": 4,
     "metadata": {},
     "output_type": "execute_result"
    }
   ],
   "source": [
    "max(0,3,6,2999,90)"
   ]
  },
  {
   "cell_type": "code",
   "execution_count": 5,
   "metadata": {},
   "outputs": [
    {
     "data": {
      "text/plain": [
       "0"
      ]
     },
     "execution_count": 5,
     "metadata": {},
     "output_type": "execute_result"
    }
   ],
   "source": [
    "min(0,3,6,2999,90)"
   ]
  },
  {
   "cell_type": "markdown",
   "metadata": {},
   "source": [
    "Another very common built-in function is the `len` function which tells us how many items are in its argument. If the argument to `len` is a string, it returns the number of characters in the string. This will be an important function for us as we move to analyzing real data."
   ]
  },
  {
   "cell_type": "code",
   "execution_count": 6,
   "metadata": {},
   "outputs": [
    {
     "data": {
      "text/plain": [
       "13"
      ]
     },
     "execution_count": 6,
     "metadata": {},
     "output_type": "execute_result"
    }
   ],
   "source": [
    "len(\"Hello, world!\")"
   ]
  },
  {
   "cell_type": "markdown",
   "metadata": {},
   "source": [
    "### Exericse 1.1: How many characters are in the phrase:\n",
    "\n",
    ">How much wood could a woodchuck chuck \n",
    ">If a woodchuck could chuck wood?   \n",
    ">As much wood as a woodchuck could chuck, \n",
    ">If a woodchuck could chuck wood."
   ]
  },
  {
   "cell_type": "code",
   "execution_count": 8,
   "metadata": {},
   "outputs": [
    {
     "data": {
      "text/plain": [
       "144"
      ]
     },
     "execution_count": 8,
     "metadata": {},
     "output_type": "execute_result"
    }
   ],
   "source": [
    "#Exercise 1.1 code here\n",
    "x = \"How much wood could a woodchuck chuck If a woodchuck could chuck wood? As much wood as a woodchuck could chuck, If a woodchuck could chuck wood.\"\n",
    "len(x)"
   ]
  },
  {
   "cell_type": "markdown",
   "metadata": {},
   "source": [
    "## Type conversion functions\n",
    "\n",
    "Python also provides built-in functions that convert values from one type to another. The `int` function takes any value and converts it to an integer, if it can, or complains otherwise:"
   ]
  },
  {
   "cell_type": "code",
   "execution_count": 9,
   "metadata": {},
   "outputs": [
    {
     "data": {
      "text/plain": [
       "32"
      ]
     },
     "execution_count": 9,
     "metadata": {},
     "output_type": "execute_result"
    }
   ],
   "source": [
    "int(32)"
   ]
  },
  {
   "cell_type": "code",
   "execution_count": 10,
   "metadata": {},
   "outputs": [
    {
     "ename": "ValueError",
     "evalue": "invalid literal for int() with base 10: 'Hello!'",
     "output_type": "error",
     "traceback": [
      "\u001b[0;31m---------------------------------------------------------------------------\u001b[0m",
      "\u001b[0;31mValueError\u001b[0m                                Traceback (most recent call last)",
      "\u001b[0;32m<ipython-input-10-06652ce9135f>\u001b[0m in \u001b[0;36m<module>\u001b[0;34m()\u001b[0m\n\u001b[0;32m----> 1\u001b[0;31m \u001b[0mint\u001b[0m\u001b[0;34m(\u001b[0m\u001b[0;34m'Hello!'\u001b[0m\u001b[0;34m)\u001b[0m\u001b[0;34m\u001b[0m\u001b[0m\n\u001b[0m",
      "\u001b[0;31mValueError\u001b[0m: invalid literal for int() with base 10: 'Hello!'"
     ]
    }
   ],
   "source": [
    "int('Hello!')"
   ]
  },
  {
   "cell_type": "code",
   "execution_count": 11,
   "metadata": {},
   "outputs": [
    {
     "data": {
      "text/plain": [
       "3"
      ]
     },
     "execution_count": 11,
     "metadata": {},
     "output_type": "execute_result"
    }
   ],
   "source": [
    "int(3.9999)"
   ]
  },
  {
   "cell_type": "code",
   "execution_count": 12,
   "metadata": {},
   "outputs": [
    {
     "data": {
      "text/plain": [
       "-2"
      ]
     },
     "execution_count": 12,
     "metadata": {},
     "output_type": "execute_result"
    }
   ],
   "source": [
    "int(-2.3)"
   ]
  },
  {
   "cell_type": "code",
   "execution_count": 13,
   "metadata": {},
   "outputs": [
    {
     "data": {
      "text/plain": [
       "32.0"
      ]
     },
     "execution_count": 13,
     "metadata": {},
     "output_type": "execute_result"
    }
   ],
   "source": [
    "float(32)"
   ]
  },
  {
   "cell_type": "code",
   "execution_count": 14,
   "metadata": {},
   "outputs": [
    {
     "data": {
      "text/plain": [
       "3.14159"
      ]
     },
     "execution_count": 14,
     "metadata": {},
     "output_type": "execute_result"
    }
   ],
   "source": [
    "float('3.14159')"
   ]
  },
  {
   "cell_type": "code",
   "execution_count": 15,
   "metadata": {},
   "outputs": [
    {
     "data": {
      "text/plain": [
       "'32'"
      ]
     },
     "execution_count": 15,
     "metadata": {},
     "output_type": "execute_result"
    }
   ],
   "source": [
    "str(32)"
   ]
  },
  {
   "cell_type": "code",
   "execution_count": 16,
   "metadata": {},
   "outputs": [
    {
     "data": {
      "text/plain": [
       "'3.14159'"
      ]
     },
     "execution_count": 16,
     "metadata": {},
     "output_type": "execute_result"
    }
   ],
   "source": [
    "str(3.14159)"
   ]
  },
  {
   "cell_type": "markdown",
   "metadata": {},
   "source": [
    "**Question: How would we check the `type` of the above functions?**"
   ]
  },
  {
   "cell_type": "markdown",
   "metadata": {},
   "source": [
    "## Defining your own function\n",
    "\n",
    "So far, we have only been using the functions that come with Python, but it is also possible to add new functions. A function definition specifies the name of a new function and the sequence of statements that execute when the function is called. Once we define a function, we can reuse the function over and over throughout our program.\n",
    "\n",
    "Here is an example:"
   ]
  },
  {
   "cell_type": "code",
   "execution_count": 17,
   "metadata": {
    "collapsed": true
   },
   "outputs": [],
   "source": [
    "def print_lyrics():\n",
    "    print(\"I'm a lumberjack, and I'm okay.\")\n",
    "    print('I sleep all night and I work all day.')"
   ]
  },
  {
   "cell_type": "markdown",
   "metadata": {},
   "source": [
    "`def` is a keyword that indicates that this is a function definition. The name of the function is print_lyrics. The rules for function names are the same as for variable names: letters, numbers and some punctuation marks are legal, but the first character can't be a number. You can't use a keyword as the name of a function, and you should avoid having a variable and a function with the same name.\n",
    "\n",
    "The empty parentheses after the name indicate that this function doesn't take any arguments. Later we will build functions that take arguments as their inputs.\n",
    "\n",
    "The first line of the function definition is called the *header*; the rest is called the *body*. The header has to end with a colon and the body has to be indented. By convention, the indentation is always four spaces. The body can contain any number of statements.\n",
    "\n",
    "The strings in the print statements are enclosed in quotes. Single quotes and double quotes do the same thing; most people use single quotes except in cases like this where a single quote (which is also an apostrophe) appears in the string.\n",
    "\n",
    "The syntax for calling the new function is the same as for built-in functions:"
   ]
  },
  {
   "cell_type": "code",
   "execution_count": 18,
   "metadata": {},
   "outputs": [
    {
     "name": "stdout",
     "output_type": "stream",
     "text": [
      "I'm a lumberjack, and I'm okay.\n",
      "I sleep all night and I work all day.\n"
     ]
    }
   ],
   "source": [
    "print_lyrics()"
   ]
  },
  {
   "cell_type": "markdown",
   "metadata": {},
   "source": [
    "Once you have defined a function, you can use it inside another function. For example, to repeat the previous refrain, we could write a function called `repeat_lyrics`:"
   ]
  },
  {
   "cell_type": "code",
   "execution_count": 19,
   "metadata": {
    "collapsed": true
   },
   "outputs": [],
   "source": [
    "def repeat_lyrics():\n",
    "    print_lyrics()\n",
    "    print_lyrics()"
   ]
  },
  {
   "cell_type": "markdown",
   "metadata": {},
   "source": [
    "### Exercise 1.2: Call the `repeat_lyrics` function"
   ]
  },
  {
   "cell_type": "code",
   "execution_count": 20,
   "metadata": {},
   "outputs": [
    {
     "name": "stdout",
     "output_type": "stream",
     "text": [
      "I'm a lumberjack, and I'm okay.\n",
      "I sleep all night and I work all day.\n",
      "I'm a lumberjack, and I'm okay.\n",
      "I sleep all night and I work all day.\n"
     ]
    }
   ],
   "source": [
    "#Exercise 1.2 code here\n",
    "repeat_lyrics()"
   ]
  },
  {
   "cell_type": "markdown",
   "metadata": {},
   "source": [
    "## Parameters and Arugments\n",
    "\n",
    "Some of the built-in functions we have seen require arguments.\n",
    "\n",
    "Inside the function, the arguments are assigned to variables called parameters. Here is an example of a user-defined function that takes an argument:"
   ]
  },
  {
   "cell_type": "code",
   "execution_count": 21,
   "metadata": {
    "collapsed": true
   },
   "outputs": [],
   "source": [
    "def phrase_length(phrase):\n",
    "    print(len(phrase))"
   ]
  },
  {
   "cell_type": "markdown",
   "metadata": {},
   "source": [
    "This function assigns the argument to a parameter named phrase. When the function is called, it prints length of the value of the parameter (whatever it is).\n",
    "\n",
    "This function works with any value that can be an argument for the length function."
   ]
  },
  {
   "cell_type": "code",
   "execution_count": 22,
   "metadata": {},
   "outputs": [
    {
     "name": "stdout",
     "output_type": "stream",
     "text": [
      "16\n",
      "15\n",
      "516\n"
     ]
    }
   ],
   "source": [
    "phrase_length(\"In the beginning\")\n",
    "phrase_length(\"Call me Ishmael\")\n",
    "phrase_length(\"I heard a Fly buzz – when I died –  \\\n",
    "The Stillness in the Room \\\n",
    "Was like the Stillness in the Air –   \\\n",
    "Between the Heaves of Storm – \\\n",
    "\\\n",
    "The Eyes around – had wrung them dry –  \\\n",
    "And Breaths were gathering firm \\\n",
    "For that last Onset – when the King \\\n",
    "Be witnessed – in the Room –  \\\n",
    "\\\n",
    "I willed my Keepsakes – Signed away \\\n",
    "What portions of me be \\\n",
    "Assignable – and then it was \\\n",
    "There interposed a Fly –  \\\n",
    "\\\n",
    "With Blue – uncertain stumbling Buzz –  \\\n",
    "Between the light – and me –  \\\n",
    "And then the Windows failed – and then \\\n",
    "I could not see to see – \")"
   ]
  },
  {
   "cell_type": "markdown",
   "metadata": {},
   "source": [
    "## Why Functions?\n",
    "\n",
    "It may not be clear why it is worth the trouble to divide a program into functions. There are several reasons:\n",
    "\n",
    "* Creating a new function gives you an opportunity to name a group of statements, which makes your program easier to read, understand, and debug.\n",
    "\n",
    "* Functions can make a program smaller by eliminating repetitive code. Later, if you make a change, you only have to make it in one place.\n",
    "\n",
    "* Dividing a long program into functions allows you to debug the parts one at a time and then assemble them into a working whole.\n",
    "\n",
    "* Well-designed functions are often useful for many programs. Once you write and debug one, you can reuse it.\n",
    "\n",
    "Throughout the rest of the course, often we will use a function definition to explain a concept. Part of the skill of creating and using functions is to have a function properly capture an idea such as \"find the smallest value in a list of values\". Later we will show you code that finds the smallest in a list of values and we will present it to you as a function named min which takes a list of values as its argument and returns the smallest value in the list."
   ]
  },
  {
   "cell_type": "markdown",
   "metadata": {},
   "source": [
    "### Exercise 1.3:  Rewrite the grade program from last class using a function called `computegrade` that takes a score as its parameter and returns a grade as a string. \n",
    "### Hint: open up your notebook from last class and copy and paste. Don't re-write code if you don't have to!"
   ]
  },
  {
   "cell_type": "code",
   "execution_count": 3,
   "metadata": {},
   "outputs": [
    {
     "name": "stdout",
     "output_type": "stream",
     "text": [
      "Enter Score\n",
      ".7\n",
      "C\n"
     ]
    }
   ],
   "source": [
    "#Exercise 1.3 code here\n",
    "def score():\n",
    "    try:\n",
    "        score = float(input('Enter Score\\n'))\n",
    "        return score\n",
    "\n",
    "    except:\n",
    "        print('Bad Score')\n",
    "        score = float(input('Enter Score\\n'))\n",
    "        return score\n",
    "\n",
    "def computegrade(score):\n",
    "    if score>1.0 or score<0.0:\n",
    "        print('Bad Score')\n",
    "    else:\n",
    "        if score >= 0.9:\n",
    "            print('A')\n",
    "        elif score >= 0.8:\n",
    "            print('B')\n",
    "        elif score >= 0.7:\n",
    "            print ('C')\n",
    "        elif score >= 0.6:\n",
    "            print('D')\n",
    "        elif score < 0.6:\n",
    "            print(\"F\")\n",
    "            \n",
    "computegrade(score())"
   ]
  },
  {
   "cell_type": "markdown",
   "metadata": {},
   "source": [
    "# Part 2: Iteration\n",
    "\n",
    "Today, we will learn about the `for` loop, and how iteration can help us do the same calculation over and over, quickly. The `for` loop will come in really handy as we learn abou text analysis in particular.\n"
   ]
  },
  {
   "cell_type": "markdown",
   "metadata": {},
   "source": [
    "## For Loops\n",
    "\n",
    "What is a for loop? It is simply a series of instructions, or things to do, that you want to do on multiple elements. It's a way to do the same thing over and over, with different inputs.\n",
    "\n",
    "For example, on Halloween, if you live in a house, you probably have a bowl of candy sitting near your front door. During the evening, for every child that comes to your door you do the following:\n",
    "\n",
    "* Say \"Happy Halloween\"\n",
    "* Ask them what they are dressed as\n",
    "* Give them a piece of candy\n",
    "* Cackle wildly\n",
    "\n",
    "That's a for loop! We use similar sytax in Python. In our example for every child that comes to your door, do the following. In Python, we say for every element in a list, do the following.\n",
    "\n",
    "To write a for loop, we have to assign each element of the list to the same variable name (decided by us), and then we use that variable name in our set of instructions.\n",
    "\n",
    "The form of a for loop is similar to the way we defined a function. We have a line that start with for, followed by a colon, then the next lines within the for loop are indented. When we are done writing the instructions for the for loop, we no longer indent the lines.\n",
    "\n",
    "For example: let's assign a list of strings to the variable `trickotreaters`. We will then carry out our above list of instructions for each child. Note the syntax here."
   ]
  },
  {
   "cell_type": "code",
   "execution_count": 4,
   "metadata": {},
   "outputs": [
    {
     "name": "stdout",
     "output_type": "stream",
     "text": [
      "Me: Happy Halloween!\n",
      "Me: What are you dressed as?\n",
      "Trick o' treater: I am a pumpkin!\n",
      "Me: Here is your piece of candy, small child.\n",
      "Me: Yuk yuk yuk yuk!\n",
      "Trick o' treater: Thank you Prof. Nelson!\n",
      "Me: Next!\n",
      "\n",
      "\n",
      "Me: Happy Halloween!\n",
      "Me: What are you dressed as?\n",
      "Trick o' treater: I am a ghost!\n",
      "Me: Here is your piece of candy, small child.\n",
      "Me: Yuk yuk yuk yuk!\n",
      "Trick o' treater: Thank you Prof. Nelson!\n",
      "Me: Next!\n",
      "\n",
      "\n",
      "Me: Happy Halloween!\n",
      "Me: What are you dressed as?\n",
      "Trick o' treater: I am a witch!\n",
      "Me: Here is your piece of candy, small child.\n",
      "Me: Yuk yuk yuk yuk!\n",
      "Trick o' treater: Thank you Prof. Nelson!\n",
      "Me: Next!\n",
      "\n",
      "\n",
      "Me: Happy Halloween!\n",
      "Me: What are you dressed as?\n",
      "Trick o' treater: I am a wonder woman!\n",
      "Me: Here is your piece of candy, small child.\n",
      "Me: Yuk yuk yuk yuk!\n",
      "Trick o' treater: Thank you Prof. Nelson!\n",
      "Me: Next!\n",
      "\n",
      "\n"
     ]
    }
   ],
   "source": [
    "trickotreaters = ['pumpkin', 'ghost', 'witch', 'wonder woman']\n",
    "\n",
    "for child in trickotreaters:\n",
    "    print(\"Me: Happy Halloween!\")\n",
    "    print(\"Me: What are you dressed as?\")\n",
    "    print(\"Trick o' treater: I am a \"+child+\"!\")\n",
    "    print(\"Me: Here is your piece of candy, small child.\")\n",
    "    print(\"Me: Yuk yuk yuk yuk!\")\n",
    "    print(\"Trick o' treater: Thank you Prof. Nelson!\")\n",
    "    print(\"Me: Next!\\n\\n\")"
   ]
  },
  {
   "cell_type": "markdown",
   "metadata": {},
   "source": [
    "### Exercise 2.1: Assign the following list of people to a variable: ['Joseph', 'Glenn', 'Sally', 'Martha']. Ask each \"person\" in your list what their name is, and print out their answer."
   ]
  },
  {
   "cell_type": "code",
   "execution_count": 7,
   "metadata": {},
   "outputs": [
    {
     "name": "stdout",
     "output_type": "stream",
     "text": [
      "What's your name?\n",
      "Joseph\n",
      "\n",
      "What's your name?\n",
      "Glenn\n",
      "\n",
      "What's your name?\n",
      "Sally\n",
      "\n",
      "What's your name?\n",
      "Martha\n",
      "\n"
     ]
    }
   ],
   "source": [
    "#Exercise 2.1 code here\n",
    "friends = [\"Joseph\",\"Glenn\", \"Sally\", \"Martha\"]\n",
    "for person in friends:\n",
    "    print(\"What's your name?\")\n",
    "    print(person)\n",
    "    print()"
   ]
  },
  {
   "cell_type": "markdown",
   "metadata": {},
   "source": [
    "## Combining loops and conditionals\n",
    "\n",
    "We might also want to do different things to each element in a list depending on the value of that element. We can do so by putting if statements inside our list.\n",
    "\n",
    "For example, we want to print whether each element in our list is a negative number or a positive number. Notice the structure of the following program, and the indentation. Also notice I'm implemnting the `str()` function. Why am I doing that?"
   ]
  },
  {
   "cell_type": "code",
   "execution_count": 8,
   "metadata": {},
   "outputs": [
    {
     "name": "stdout",
     "output_type": "stream",
     "text": [
      "9 is a positive number.\n",
      "500 is a positive number.\n",
      "20 is a positive number.\n",
      "-10 is a negative number.\n",
      "-0.5 is a negative number.\n"
     ]
    }
   ],
   "source": [
    "num_list = [9, 500, 20, -10, -.5]\n",
    "for e in num_list:\n",
    "    if e > 0:\n",
    "        print(str(e)+\" is a positive number.\")\n",
    "    else:\n",
    "        print(str(e)+\" is a negative number.\")"
   ]
  },
  {
   "cell_type": "markdown",
   "metadata": {},
   "source": [
    "We can also pass over elements if we wish to ignore them. For example, I'll add a '0' to our num_list, and skip over that number in my for loop."
   ]
  },
  {
   "cell_type": "code",
   "execution_count": null,
   "metadata": {
    "collapsed": true
   },
   "outputs": [],
   "source": [
    "num_list = [9, 500, 20, 0, -10, -.5]\n",
    "for e in num_list:\n",
    "    if e == 0:\n",
    "        pass\n",
    "    elif e > 0:\n",
    "        print(str(e)+\" is a positive number.\")\n",
    "    else:\n",
    "        print(str(e)+\" is a negative number.\")"
   ]
  },
  {
   "cell_type": "markdown",
   "metadata": {},
   "source": [
    "### Exercise 2.2: Reassign the list of trick o' treaters above, but add an 'adult' into the list, as such:\n",
    "### trickotreaters = ['pumpkin', 'ghost', 'witch', 'adult', 'wonder woman']\n",
    "### Do the same for each trick o' treater we did above (remember: copy and paste are your friend!), but if the trick o' treater is an adult, pass over them. To do so, simply type the word pass."
   ]
  },
  {
   "cell_type": "code",
   "execution_count": 10,
   "metadata": {},
   "outputs": [
    {
     "name": "stdout",
     "output_type": "stream",
     "text": [
      "Me: Happy Halloween!\n",
      "Me: What are you dressed as?\n",
      "Trick o' treater: I am a pumpkin!\n",
      "Me: Here is your piece of candy, small child.\n",
      "Me: Yuk yuk yuk yuk!\n",
      "Trick o' treater: Thank you Prof. Nelson!\n",
      "Me: Next!\n",
      "\n",
      "\n",
      "Me: Happy Halloween!\n",
      "Me: What are you dressed as?\n",
      "Trick o' treater: I am a ghost!\n",
      "Me: Here is your piece of candy, small child.\n",
      "Me: Yuk yuk yuk yuk!\n",
      "Trick o' treater: Thank you Prof. Nelson!\n",
      "Me: Next!\n",
      "\n",
      "\n",
      "Me: Happy Halloween!\n",
      "Me: What are you dressed as?\n",
      "Trick o' treater: I am a witch!\n",
      "Me: Here is your piece of candy, small child.\n",
      "Me: Yuk yuk yuk yuk!\n",
      "Trick o' treater: Thank you Prof. Nelson!\n",
      "Me: Next!\n",
      "\n",
      "\n",
      "Me: Happy Halloween!\n",
      "Me: What are you dressed as?\n",
      "Trick o' treater: I am a wonder woman!\n",
      "Me: Here is your piece of candy, small child.\n",
      "Me: Yuk yuk yuk yuk!\n",
      "Trick o' treater: Thank you Prof. Nelson!\n",
      "Me: Next!\n",
      "\n",
      "\n"
     ]
    }
   ],
   "source": [
    "#Exercise 2.2 code here\n",
    "trickotreaters = ['pumpkin', 'ghost', 'witch', \"adult\", 'wonder woman']\n",
    "\n",
    "for child in trickotreaters:\n",
    "    if child == \"adult\":\n",
    "        pass\n",
    "    else:\n",
    "        print(\"Me: Happy Halloween!\")\n",
    "        print(\"Me: What are you dressed as?\")\n",
    "        print(\"Trick o' treater: I am a \"+child+\"!\")\n",
    "        print(\"Me: Here is your piece of candy, small child.\")\n",
    "        print(\"Me: Yuk yuk yuk yuk!\")\n",
    "        print(\"Trick o' treater: Thank you Prof. Nelson!\")\n",
    "        print(\"Me: Next!\\n\\n\")"
   ]
  },
  {
   "cell_type": "markdown",
   "metadata": {},
   "source": [
    "## List Comprehension (not in book)\n",
    "\n",
    "We can also loop through lists using list comprehension. List comprehensions are a fairly advanced programming technique that we will spend more time talking about as we move through the course. For now, you can think of them as list filters. Often, we want to loop through a list and only keep those that fulfill certain criteria.\n",
    "\n",
    "We might, for example, only want to keep the positive elements in a list. We can do that by assigning a new variable via loop comprehension. Pay attention to the syntax here."
   ]
  },
  {
   "cell_type": "code",
   "execution_count": 11,
   "metadata": {},
   "outputs": [
    {
     "data": {
      "text/plain": [
       "[9, 500, 20]"
      ]
     },
     "execution_count": 11,
     "metadata": {},
     "output_type": "execute_result"
    }
   ],
   "source": [
    "#original list\n",
    "num_list = [9, 500, 20, -10, -.5]\n",
    "\n",
    "#naming a new variable\n",
    "positive_numbers = [e for e in num_list if e > 0]\n",
    "#print the resulting list\n",
    "\n",
    "positive_numbers"
   ]
  },
  {
   "cell_type": "markdown",
   "metadata": {},
   "source": [
    "### Exercise 2.3: Assign the following list to a variable:\n",
    "\n",
    "### num_list = [9, 500, .01, \"Sally\", 20.5, 0, \"Martha\", -.5, -50, \"Fred\", 4.5, \"Prof. Nelson\"]\n",
    "\n",
    "### Create a new variable that contains only the elements in that list that are a string."
   ]
  },
  {
   "cell_type": "code",
   "execution_count": 16,
   "metadata": {},
   "outputs": [
    {
     "data": {
      "text/plain": [
       "['Sally', 'Martha', 'Fred', 'Prof. Nelson']"
      ]
     },
     "execution_count": 16,
     "metadata": {},
     "output_type": "execute_result"
    }
   ],
   "source": [
    "#Exercise 2.3 code here:\n",
    "num_list = [9, 500, .01, \"Sally\", 20.5, 0, \"Martha\", -.5, -50, \"Fred\", 4.5, \"Prof. Nelson\"]\n",
    "str_list = [e for e in num_list if type(e) == str]\n",
    "str_list"
   ]
  },
  {
   "cell_type": "markdown",
   "metadata": {},
   "source": [
    "When you're done, save your notebook and upload it to Blackboard."
   ]
  }
 ],
 "metadata": {
  "kernelspec": {
   "display_name": "Python 3",
   "language": "python",
   "name": "python3"
  },
  "language_info": {
   "codemirror_mode": {
    "name": "ipython",
    "version": 3
   },
   "file_extension": ".py",
   "mimetype": "text/x-python",
   "name": "python",
   "nbconvert_exporter": "python",
   "pygments_lexer": "ipython3",
   "version": "3.6.3"
  }
 },
 "nbformat": 4,
 "nbformat_minor": 2
}
