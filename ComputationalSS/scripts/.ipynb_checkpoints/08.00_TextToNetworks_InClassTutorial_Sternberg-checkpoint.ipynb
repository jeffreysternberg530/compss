{
 "cells": [
  {
   "cell_type": "markdown",
   "metadata": {},
   "source": [
    "# Structuring Unstructured Digitized Data\n",
    "\n",
    "Problem: You would like to make a character network map from Shakespeare's *Hamlet*, similar to what Moretti does in his work. All you have is a raw text file of *Hamlet* that you have copy-and-pasted from Project Gutenberg. How do you go from raw text, to network map?\n",
    "\n",
    "Solution: flex your Python muscles and bring together everything you know to structure the raw text (plus a new library, Networkx!).\n",
    "\n",
    "Outcome: combine the tools we already know, string methods, list methods, regular expressions, and Pandas, plus add a new library to our toolkit, to create a very rough character network map of Shakespeare's *Hamlet*.\n",
    "\n",
    "The interesting substantive question is [what constitutes a link between characters in a play](http://digitalhumanities.org/dhq/vol/11/2/000289/000289.html).\n",
    "\n",
    "We will construct our (imperfect) network via the following method (from the linked article above):\n",
    "\n",
    "\n",
    ">The network structure calculations were obtained by treating each speaking character as a node, and deeming two characters to be linked if there was at least one time slice of the play in which both were present (that is, if two characters spoke to each other or were in each other’s presence, then they have a link).  [[Stiller, Nettle, and Dunbar 2003, 399](https://link.springer.com/article/10.1007/s12110-003-1013-1)]\n",
    "\n",
    "**This is not an active learning tutorial (sorry!).** Rather, it's a demonstration of my workflow as I face a new set of unstructured data, and an end goal of how I want it structured. \n",
    "\n",
    "## Learning Goals\n",
    "\n",
    "* Think through how you can combine tools you already know to extract and structure the information you want from a raw, semi-structured text file.\n",
    "    * Note the vast number of tools we use to do this relatively simple example. Getting comfortable with these basic tools is really important to do more sophisticated work! Practice, practice, practice.\n",
    "* Review of all the tools we have learned and how they work together to form one, powerful ecosystem.\n",
    "* Learn the basics of creating an adjacency matrix, and turning that matrix into a network graph using the Python library Networkx.\n",
    "    * **Carefull!!** You now know just enough to be dangerous. **Proceed with caution.** If you think network analysis might be something you want to do in your own resesarch **go take a class in it**. Lots of resources here to do excellent network analysis projects.\n",
    "* Through this exercise, you should note how much cleaning happens, how many mistakes get through despite our best efforts, and how many decisions I as a researcher have to make. \n",
    "    * Note the importance of making explicit every decision you make. **Most authors unfortunately do not do this**. I hope with your generation we can change that.\n",
    "    * Y'all, this is real. This is how research is being done right now.\n",
    "* Learn strategies for breaking down a complicated task into smaller parts.\n",
    "    * Proceed one step at a time, and print everything you do to check you're doing it correctly.\n",
    "    * Note also the different types of computational essays you might create. You might create one that simply structures your data, and another to do the analyses, for example.\n",
    "\n",
    "### OK, get ready!!!"
   ]
  },
  {
   "cell_type": "code",
   "execution_count": 1,
   "metadata": {
    "collapsed": true
   },
   "outputs": [],
   "source": [
    "#import our libraries\n",
    "import pandas\n",
    "import re\n",
    "import networkx as nx\n",
    "import numpy as np #needed to create a matrix for our network graph\n",
    "import matplotlib.pyplot as plt"
   ]
  },
  {
   "cell_type": "code",
   "execution_count": 1,
   "metadata": {},
   "outputs": [
    {
     "data": {
      "text/plain": [
       "'\\nProject Gutenberg EBook of Hamlet, by William Shakespeare\\n\\nThis eBook is for the use of anyone anywhere in the United States and\\nmost other parts of the world at no cost and with almost no\\nrestrictions whatsoever.  You may copy it, give it away or re-use it\\nunder the terms of the Project Gutenberg License included with this\\neBook or online at www.gutenberg.org.  If you are not located in the\\nUnited States, you’ll have to check the laws of the country where you\\nare located before using this ebook.\\n\\n\\n\\nTitle: Hamlet\\n\\nAuthor: William Shakespeare\\n\\nRelease Date: November 1998 [EBook #1524]\\n\\nLast Updated: December 30, 2017\\n\\nLanguage: English\\n\\nCharacter set encoding: UTF-8\\n\\n*** START OF THIS PROJECT GUTENBERG EBOOK HAMLET ***\\n\\n\\n\\nThis etext was prepared by Dianne Bean.\\n\\n\\nTHE TRAGEDY OF HAMLET, PRINCE OF DENMARK\\n\\n\\n\\n\\nby William Shakespeare\\n\\n\\n\\n\\n\\n\\nContents\\n\\nACT I Scene I. Elsinore. A platform before the Castle. Scene II.\\nElsinore. A room of state in the Castle Scene III. A room in Polonius’s\\nhouse'"
      ]
     },
     "execution_count": 1,
     "metadata": {},
     "output_type": "execute_result"
    }
   ],
   "source": [
    "#read in our text file\n",
    "hamlet = open('../data/hamlet.txt', 'r').read()\n",
    "hamlet[:1000]"
   ]
  },
  {
   "cell_type": "markdown",
   "metadata": {},
   "source": [
    "Our first goal is to identify which characters were in each other's presence at any time throughout the play. We will approximate this by counting a positive tie if two characters had speaking lines in the same scene.\n",
    "\n",
    "The text is semi-structured via ACTs and SCENEs. We'll use this semi-structure to explit the full file into acts, and then scenes within each act, with the goal of creating a list of characters present in each scene.\n",
    "\n",
    "First, use the string `.find` method to locate the ACTs:"
   ]
  },
  {
   "cell_type": "code",
   "execution_count": null,
   "metadata": {
    "collapsed": true
   },
   "outputs": [],
   "source": [
    "hamlet.find(\"ACT I\\n\")"
   ]
  },
  {
   "cell_type": "code",
   "execution_count": null,
   "metadata": {
    "collapsed": true
   },
   "outputs": [],
   "source": [
    "hamlet.find(\"ACT II\\n\")"
   ]
  },
  {
   "cell_type": "code",
   "execution_count": null,
   "metadata": {
    "collapsed": true
   },
   "outputs": [],
   "source": [
    "hamlet.find(\"ACT III\\n\")"
   ]
  },
  {
   "cell_type": "code",
   "execution_count": null,
   "metadata": {
    "collapsed": true
   },
   "outputs": [],
   "source": [
    "hamlet.find(\"ACT IV\\n\")"
   ]
  },
  {
   "cell_type": "code",
   "execution_count": null,
   "metadata": {
    "collapsed": true
   },
   "outputs": [],
   "source": [
    "hamlet.find(\"ACT V\\n\")"
   ]
  },
  {
   "cell_type": "code",
   "execution_count": null,
   "metadata": {
    "collapsed": true
   },
   "outputs": [],
   "source": [
    "hamlet.find(\"ACT VI\\n\")"
   ]
  },
  {
   "cell_type": "code",
   "execution_count": null,
   "metadata": {
    "collapsed": true
   },
   "outputs": [],
   "source": [
    "actI = hamlet[hamlet.find(\"ACT I\\n\") : hamlet.find(\"ACT II\\n\")]\n",
    "actI"
   ]
  },
  {
   "cell_type": "code",
   "execution_count": null,
   "metadata": {
    "collapsed": true
   },
   "outputs": [],
   "source": [
    "actII = hamlet[hamlet.find(\"ACT II\\n\") : hamlet.find(\"ACT III\\n\")]\n",
    "actII"
   ]
  },
  {
   "cell_type": "markdown",
   "metadata": {},
   "source": [
    "And so on. Do the next three acts."
   ]
  },
  {
   "cell_type": "code",
   "execution_count": null,
   "metadata": {
    "collapsed": true
   },
   "outputs": [],
   "source": [
    "actIII = hamlet[hamlet.find(\"ACT III\\n\") : hamlet.find(\"ACT IV\\n\")]\n",
    "actIV = hamlet[hamlet.find(\"ACT IV\\n\") : hamlet.find(\"ACT V\\n\")]\n",
    "actV = hamlet[hamlet.find(\"ACT V\\n\") : hamlet.find(\"End of the Project Gutenberg EBook\")]"
   ]
  },
  {
   "cell_type": "markdown",
   "metadata": {},
   "source": [
    "Next, split each ACT by SCENE, using regular expressions:"
   ]
  },
  {
   "cell_type": "code",
   "execution_count": null,
   "metadata": {
    "collapsed": true
   },
   "outputs": [],
   "source": [
    "actI_scenes = re.findall(\"SCENE [A-Z]+\", actI)\n",
    "actI_scenes"
   ]
  },
  {
   "cell_type": "code",
   "execution_count": null,
   "metadata": {
    "collapsed": true
   },
   "outputs": [],
   "source": [
    "#Write a for loop to split each act into scenes\n",
    "for idx,scene in enumerate(actI_scenes):\n",
    "    print(idx, scene)"
   ]
  },
  {
   "cell_type": "code",
   "execution_count": null,
   "metadata": {
    "collapsed": true
   },
   "outputs": [],
   "source": [
    "actI_scenes.append(\"End of the Project Gutenberg EBook\")\n",
    "actI_scenes"
   ]
  },
  {
   "cell_type": "code",
   "execution_count": null,
   "metadata": {
    "collapsed": true
   },
   "outputs": [],
   "source": [
    "#Write a for loop to split each act into scenes\n",
    "actI_list = list()\n",
    "for idx,scene in enumerate(actI_scenes):\n",
    "    if idx <= (len(actI_scenes)-2):\n",
    "        scene_text = actI[actI.find(actI_scenes[idx]): actI.find(actI_scenes[idx+1])]\n",
    "        actI_list.append(tuple(((\"act1_scene\"+str(idx+1)),scene_text)))\n",
    "actI_list"
   ]
  },
  {
   "cell_type": "markdown",
   "metadata": {},
   "source": [
    "Next, identify the characters in each scene. We'll do this first with ACT I, SCENE 2, and then put it together and do all scenes"
   ]
  },
  {
   "cell_type": "code",
   "execution_count": null,
   "metadata": {
    "collapsed": true,
    "scrolled": true
   },
   "outputs": [],
   "source": [
    "act1_scene2 = actI_list[1][1]\n",
    "act1_scene2"
   ]
  },
  {
   "cell_type": "code",
   "execution_count": null,
   "metadata": {
    "collapsed": true,
    "scrolled": true
   },
   "outputs": [],
   "source": [
    "#use regular expressions to find all the characters in a scene\n",
    "re.findall('\\n\\n([\\w ]+)\\.', act1_scene2)"
   ]
  },
  {
   "cell_type": "code",
   "execution_count": null,
   "metadata": {
    "collapsed": true
   },
   "outputs": [],
   "source": [
    "#pull out the unique characters (we're ignoring number of lines spoken for now)\n",
    "act1scene2_charaters = list(set(re.findall('\\n\\n([\\w ]+)\\.', act1_scene2)))\n",
    "act1scene2_charaters"
   ]
  },
  {
   "cell_type": "code",
   "execution_count": null,
   "metadata": {
    "collapsed": true
   },
   "outputs": [],
   "source": [
    "##Oops! There are some problems. Two characters listed in the same element, for example.\n",
    "##Loop through and separate those elements\n",
    "new_char_list = list()\n",
    "for char in act1scene2_charaters:\n",
    "    if 'Enter' in char:\n",
    "        pass\n",
    "    elif 'and' in char:\n",
    "        new_char = char.split(' and ')\n",
    "        print(new_char)"
   ]
  },
  {
   "cell_type": "code",
   "execution_count": null,
   "metadata": {
    "collapsed": true
   },
   "outputs": [],
   "source": [
    "new_char_list = list()\n",
    "for char in act1scene2_charaters:\n",
    "    if 'Enter' in char:\n",
    "        pass\n",
    "    elif 'and' in char:\n",
    "        new_char = char.split(' and ')\n",
    "        new_char_list.extend([new_char[0], new_char[1]])\n",
    "    else:\n",
    "        new_char_list.append(char)\n",
    "new_char_list"
   ]
  },
  {
   "cell_type": "code",
   "execution_count": null,
   "metadata": {
    "collapsed": true
   },
   "outputs": [],
   "source": [
    "#Put it all together with multiple for-loops and nested if/else statements\n",
    "#create a master list of tuples, where the first element is the act/scene number\n",
    "#the second element a list of unique characters that appear in that scene\n",
    "\n",
    "acts = [actI, actII, actIII, actIV, actV]\n",
    "scene_list = list()\n",
    "for actidx, act in enumerate(acts):\n",
    "    act_scenes = re.findall(\"SCENE [A-Z]+\", act)\n",
    "    act_scenes.append(\"End of the Project Gutenberg EBook\")\n",
    "    act_list = list()\n",
    "    for idx,scene in enumerate(act_scenes):\n",
    "        if idx <= (len(act_scenes)-2):\n",
    "            scene_text = act[act.find(act_scenes[idx]): act.find(act_scenes[idx+1])]\n",
    "            act_list.append(tuple(((\"act\"+str(actidx+1)+\"_scene\"+str(idx+1)),scene_text)))\n",
    "    act_list_char = list()\n",
    "    for scene, text in act_list:\n",
    "        act_list_char.append(tuple((scene,list(set(re.findall('\\n\\n([\\w ]+)\\.', text))) )))\n",
    "    for scene,character in act_list_char:\n",
    "        new_char_list = list()\n",
    "        for char in character:\n",
    "            if 'Enter' in char:\n",
    "                pass\n",
    "            elif 'and' in char:\n",
    "                new_char = char.split(' and ')\n",
    "                new_char_list.extend([new_char[0], new_char[1]])\n",
    "            else:\n",
    "                new_char_list.append(char)\n",
    "        scene_list.append(tuple((scene,new_char_list)))\n",
    "scene_list"
   ]
  },
  {
   "cell_type": "markdown",
   "metadata": {},
   "source": [
    "# Part II: Network Graph\n",
    "\n",
    "Great! We've put some useful structure to our unstructured text.\n",
    "\n",
    "Next steps:\n",
    "\n",
    "1. Create an adjency matrix, counting the number of scenes each pair of characters appear together\n",
    "2. Turn the adjency matrix into a network object, to graph it and calculate network statistics"
   ]
  },
  {
   "cell_type": "code",
   "execution_count": null,
   "metadata": {
    "collapsed": true
   },
   "outputs": [],
   "source": [
    "#create a list of all unique characters in the play. This will be our rows and columns\n",
    "all_characters = list()\n",
    "for key, value in scene_list:\n",
    "    print(value)"
   ]
  },
  {
   "cell_type": "code",
   "execution_count": null,
   "metadata": {
    "collapsed": true
   },
   "outputs": [],
   "source": [
    "all_characters = list()\n",
    "for key, value in scene_list:\n",
    "    all_characters.extend(value)\n",
    "all_characters"
   ]
  },
  {
   "cell_type": "code",
   "execution_count": null,
   "metadata": {
    "collapsed": true,
    "scrolled": true
   },
   "outputs": [],
   "source": [
    "unique_characters = list(set(all_characters))\n",
    "unique_characters"
   ]
  },
  {
   "cell_type": "code",
   "execution_count": null,
   "metadata": {
    "collapsed": true
   },
   "outputs": [],
   "source": [
    "#Roughly clean up some of the errors\n",
    "unique_characters = [char for char in unique_characters if char.isupper()]\n",
    "unique_characters"
   ]
  },
  {
   "cell_type": "code",
   "execution_count": null,
   "metadata": {
    "collapsed": true
   },
   "outputs": [],
   "source": [
    "len(unique_characters)"
   ]
  },
  {
   "cell_type": "code",
   "execution_count": null,
   "metadata": {
    "collapsed": true,
    "scrolled": true
   },
   "outputs": [],
   "source": [
    "#create a zero square dataframe with characters as columns and rows\n",
    "df = pandas.DataFrame(0, columns=unique_characters, index=unique_characters)\n",
    "df"
   ]
  },
  {
   "cell_type": "code",
   "execution_count": null,
   "metadata": {
    "collapsed": true,
    "scrolled": true
   },
   "outputs": [],
   "source": [
    "#reminder: how do we change values in a dataframe?\n",
    "df_example = df.copy()\n",
    "df_example.loc['BARNARDO']['QUEEN'] += 1\n",
    "df_example"
   ]
  },
  {
   "cell_type": "code",
   "execution_count": null,
   "metadata": {
    "collapsed": true,
    "scrolled": true
   },
   "outputs": [],
   "source": [
    "#set up a for loop to loop through the characters in the index\n",
    "for char in df.index:\n",
    "    print(char)"
   ]
  },
  {
   "cell_type": "code",
   "execution_count": null,
   "metadata": {
    "collapsed": true
   },
   "outputs": [],
   "source": [
    "for scene, characters in scene_list:\n",
    "    if 'GUILDENSTERN' in characters:\n",
    "        print(scene, characters)"
   ]
  },
  {
   "cell_type": "code",
   "execution_count": null,
   "metadata": {
    "collapsed": true
   },
   "outputs": [],
   "source": [
    "df_test = df.copy()\n",
    "for scene, characters in scene_list:\n",
    "    if 'GUILDENSTERN' in characters:\n",
    "        for character in characters:\n",
    "            if character in list(df_test.index):\n",
    "                df_test.loc['GUILDENSTERN'][character] += 1\n",
    "df_test.loc[\"GUILDENSTERN\"]"
   ]
  },
  {
   "cell_type": "code",
   "execution_count": null,
   "metadata": {
    "collapsed": true,
    "scrolled": true
   },
   "outputs": [],
   "source": [
    "for character in df.index:\n",
    "    for scene, characters in scene_list:\n",
    "        if character in characters:\n",
    "            for char in characters:\n",
    "                if char in list(df.index):\n",
    "                    df.loc[character][char] += 1\n",
    "df"
   ]
  },
  {
   "cell_type": "markdown",
   "metadata": {},
   "source": [
    "### Network Graphs"
   ]
  },
  {
   "cell_type": "code",
   "execution_count": null,
   "metadata": {
    "collapsed": true
   },
   "outputs": [],
   "source": [
    "df_matrix = df.as_matrix()\n",
    "print(df_matrix)\n",
    "print()\n",
    "print(np.shape(df_matrix))"
   ]
  },
  {
   "cell_type": "code",
   "execution_count": null,
   "metadata": {
    "collapsed": true
   },
   "outputs": [],
   "source": [
    "#Create org graph object\n",
    "G = nx.to_networkx_graph(df_matrix,create_using=nx.DiGraph())\n",
    "G"
   ]
  },
  {
   "cell_type": "code",
   "execution_count": null,
   "metadata": {
    "collapsed": true,
    "scrolled": true
   },
   "outputs": [],
   "source": [
    "#dictionary to label the character nodes\n",
    "names = list(df.index) #list of character names\n",
    "\n",
    "labels_names = {}\n",
    "\n",
    "for n in range(0,np.shape(df_matrix)[0]):\n",
    "    labels_names[n] = names[n]\n",
    "labels_names"
   ]
  },
  {
   "cell_type": "code",
   "execution_count": null,
   "metadata": {
    "collapsed": true
   },
   "outputs": [],
   "source": [
    "#How many nodes? It should equal the number of unique characters in our dataset\n",
    "G.number_of_nodes()"
   ]
  },
  {
   "cell_type": "code",
   "execution_count": null,
   "metadata": {
    "collapsed": true
   },
   "outputs": [],
   "source": [
    "#rename the nodes in our two graph objects.\n",
    "nx.relabel_nodes(G, labels_names,copy=False)"
   ]
  },
  {
   "cell_type": "code",
   "execution_count": null,
   "metadata": {
    "collapsed": true
   },
   "outputs": [],
   "source": [
    "plt.figure(figsize=(10,10))\n",
    "\n",
    "nx.draw(G,\n",
    "    with_labels = True,\n",
    "    node_color = 'black',\n",
    "    node_size = 50,\n",
    "    line_color = 'grey',\n",
    "    linewidths = 0,\n",
    "    width = 0.1,\n",
    "    font_size = 16\n",
    "    )\n",
    "\n",
    "plt.show()"
   ]
  },
  {
   "cell_type": "markdown",
   "metadata": {},
   "source": [
    "Let's look at some statistics."
   ]
  },
  {
   "cell_type": "code",
   "execution_count": null,
   "metadata": {
    "collapsed": true
   },
   "outputs": [],
   "source": [
    "betweeness_names = nx.betweenness_centrality(G, seed = 123)\n",
    "betweeness_names"
   ]
  },
  {
   "cell_type": "code",
   "execution_count": null,
   "metadata": {
    "collapsed": true
   },
   "outputs": [],
   "source": [
    "#sort by value to find the most central character\n",
    "sorted(betweeness_names, key=betweeness_names.get, reverse=True)"
   ]
  },
  {
   "cell_type": "markdown",
   "metadata": {},
   "source": [
    "Horatio is the most important go-between character for Hamlet. Does this surprise anyone?"
   ]
  },
  {
   "cell_type": "code",
   "execution_count": null,
   "metadata": {
    "collapsed": true
   },
   "outputs": [],
   "source": [
    "eigenvector_names = nx.eigenvector_centrality(G)\n",
    "\n",
    "#sort by value to find the most central character\n",
    "sorted(eigenvector_names, key=eigenvector_names.get, reverse=True)"
   ]
  },
  {
   "cell_type": "markdown",
   "metadata": {},
   "source": [
    "Ah, a much different story!\n",
    "\n",
    "### Final Thoughts\n",
    "\n",
    "* Tom Stoppard is onto something, for sure. But what? What is this capturing? Don't deny the power of the little people? Peripheral characters might not be so peripheral? \n",
    "\n",
    "* Also, be careful with your centrality measures! Make sure you're measuring what you want to be measuring **(i.e., go take a class and learn the math behind this. You have just enough skills to be dangerous right now!).**\n",
    "\n",
    "* How else might we measure a tie? If you want a challenge, repeat this exercise but measure ties differently. Do you get different graph statistics? \n",
    "\n",
    "* What else might we do with this?"
   ]
  },
  {
   "cell_type": "markdown",
   "metadata": {},
   "source": [
    "### This is what structuring unstructured digitized data means. Questions? Reactions? What stands out to you from the exercise today?\n",
    "\n",
    "When you're satisfied, change the last name on this file, save it, and upload it to Blackboard to get credit for your attendance today."
   ]
  }
 ],
 "metadata": {
  "kernelspec": {
   "display_name": "Python 3",
   "language": "python",
   "name": "python3"
  },
  "language_info": {
   "codemirror_mode": {
    "name": "ipython",
    "version": 3
   },
   "file_extension": ".py",
   "mimetype": "text/x-python",
   "name": "python",
   "nbconvert_exporter": "python",
   "pygments_lexer": "ipython3",
   "version": "3.6.3"
  }
 },
 "nbformat": 4,
 "nbformat_minor": 2
}
