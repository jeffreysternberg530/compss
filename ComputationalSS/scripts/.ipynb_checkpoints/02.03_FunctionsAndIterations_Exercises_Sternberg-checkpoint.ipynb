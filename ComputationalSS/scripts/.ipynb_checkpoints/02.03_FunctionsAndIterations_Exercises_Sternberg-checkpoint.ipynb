{
 "cells": [
  {
   "cell_type": "markdown",
   "metadata": {},
   "source": [
    "## Exercise 1:\n",
    "\n",
    "Create a function called `computepay` that takes two parameters, hours and rate, and returns the total pay the worker earns. Call the function on the following hours/rate:\n",
    "\n",
    "hours = 35.0  \n",
    "rate = 12.50\n",
    "\n",
    "Your function should return a total pay of 96.25."
   ]
  },
  {
   "cell_type": "code",
   "execution_count": null,
   "metadata": {
    "collapsed": true
   },
   "outputs": [],
   "source": [
    "# Exercise 1 code here\n",
    "\n",
    "def hours_rate(h, r):\n",
    "    pay = h*r\n",
    "    print(pay)\n",
    "    return pay\n",
    "\n",
    "hours_rate(35,12.5)"
   ]
  },
  {
   "cell_type": "markdown",
   "metadata": {},
   "source": [
    "## Exercise 2\n",
    "Write a new function (copy and paste your other function and modify it), this time with time-and-a-half for overtime.Call the function on the following hours/rate:\n",
    "\n",
    "hours: 45  \n",
    "rate: 10\n",
    "\n",
    "Your function should return a total pay of 475.0."
   ]
  },
  {
   "cell_type": "code",
   "execution_count": null,
   "metadata": {
    "collapsed": true
   },
   "outputs": [],
   "source": [
    "#Exercise 2 code here\n",
    "\n",
    "def hours_rate(h, r):\n",
    "    if h <= 40: \n",
    "        pay = h*r\n",
    "        print(pay)\n",
    "        return pay\n",
    "    elif h > 40:\n",
    "        pay = (r*40)+((h-40)*(r*1.5))\n",
    "        return pay\n",
    "        print(pay)\n",
    "\n",
    "hours_rate(45,10)"
   ]
  },
  {
   "cell_type": "markdown",
   "metadata": {},
   "source": [
    "## Exercise 3 (extra stars for completing this assignment!):\n",
    "\n",
    "Let's practice answering real questions using code.\n",
    "\n",
    "I like playing Scrabble with my mom, but she is an English professor and always beats me. She is particularly good at getting lots of points off of two-letter words. I'm not great at linguistics, but I can code. I want to boost my chances of getting those key two-letter word scores by counting the number of two-letter words in various texts, and printing all of the two-letter words in a way that is easy to read: one word per line.\n",
    "\n",
    "Your task: write a function called `two_letter_words` that will print the total number of two-letter words in a list, and then print all of the two-letter words, one on each line.\n",
    "\n",
    "For now, do this on the following list (don't worry about punctuation or repeating the same word multiple times for now): ['It', 'was', 'the', 'best', 'of', 'times;', 'it', 'was', 'the', 'worst', 'of', 'times.']\n",
    "\n",
    "Use extra print statements so that a reader can easily follow the output from your program, and so that it looks visually pleasing."
   ]
  },
  {
   "cell_type": "code",
   "execution_count": 5,
   "metadata": {},
   "outputs": [
    {
     "name": "stdout",
     "output_type": "stream",
     "text": [
      "It\n",
      "\n",
      "of\n",
      "\n",
      "it\n",
      "\n",
      "of\n",
      "\n",
      "Number of Two Letter Words: 4\n"
     ]
    }
   ],
   "source": [
    "# Exercise 3 code here\n",
    "\n",
    "def two_letter_words(x):\n",
    "    count = 0\n",
    "    for item in x:\n",
    "        if len(item) != 2:\n",
    "            pass\n",
    "        elif len(item) == 2:\n",
    "            print(item)\n",
    "            print()\n",
    "            count = count + 1\n",
    "    print(\"Number of Two Letter Words:\", count)\n",
    "            \n",
    "x = ['It', 'was', 'the', 'best', 'of', 'times;', 'it', 'was', 'the', 'worst', 'of', 'times.']\n",
    "two_letter_words(x)"
   ]
  }
 ],
 "metadata": {
  "kernelspec": {
   "display_name": "Python 3",
   "language": "python",
   "name": "python3"
  },
  "language_info": {
   "codemirror_mode": {
    "name": "ipython",
    "version": 3
   },
   "file_extension": ".py",
   "mimetype": "text/x-python",
   "name": "python",
   "nbconvert_exporter": "python",
   "pygments_lexer": "ipython3",
   "version": "3.6.3"
  }
 },
 "nbformat": 4,
 "nbformat_minor": 2
}
