{
 "cells": [
  {
   "cell_type": "markdown",
   "metadata": {},
   "source": [
    "## Exercises for Py4E, Chapters 2 and 3\n",
    "\n",
    "Due by 7PM, Tuesday January 30  \n",
    "\n",
    "![alt text](https://pbs.twimg.com/media/C3CBTajUkAABKEq.jpg)\n"
   ]
  },
  {
   "cell_type": "code",
   "execution_count": 8,
   "metadata": {},
   "outputs": [
    {
     "name": "stdout",
     "output_type": "stream",
     "text": [
      "Let's play the guessing game!\n",
      "What number am I thinking of?  \n",
      "42\n",
      "I'm guessing:\n",
      "42.0\n",
      "MINDREADER!!!\n"
     ]
    }
   ],
   "source": [
    "#################################################\n",
    "#Exercise 1: the guessing game higher or lower### \n",
    "#################################################\n",
    "\n",
    "# The variable answer is the number I'm thinking of.\n",
    "# Write a program that creates a variable called guess and then prints it after \"I'm guessing:\"\n",
    "# If guess is less than the number I'm thinking of, your program should print: 'Little higher'\n",
    "# If guess is more than the number I'm thinking of, your program should print: 'Little lower'\n",
    "# If guess is correct, your program should print 'MINDREADER!!!'\n",
    "# Make sure to test your code on a few guesses to ensure it's working propery.\n",
    " \n",
    "print ('Let\\'s play the guessing game!')\n",
    "answer = 42\n",
    "\n",
    "guess = float(input('What number am I thinking of?  \\n'))\n",
    "print(\"I'm guessing:\")\n",
    "print(guess)\n",
    "\n",
    "if guess == answer: \n",
    "    print(\"MINDREADER!!!\")\n",
    "elif guess < answer:\n",
    "    print(\"Little higher\")\n",
    "elif guess > answer:\n",
    "    print(\"Little Lower\")\n",
    "        "
   ]
  },
  {
   "cell_type": "code",
   "execution_count": null,
   "metadata": {
    "collapsed": true
   },
   "outputs": [],
   "source": [
    "##################################################################\n",
    "#Exercise 2: the guessing game higher or lower, with try/except### \n",
    "##################################################################\n",
    "\n",
    "# Repeat the above code but include a try/except clause, producing an error message if the guess is not a number."
   ]
  },
  {
   "cell_type": "code",
   "execution_count": null,
   "metadata": {
    "collapsed": true
   },
   "outputs": [],
   "source": [
    "print ('Let\\'s play the guessing game!')\n",
    "answer = 42\n",
    "\n",
    "try:\n",
    "    guess = float(input('What number am I thinking of?  \\n'))\n",
    "    print(\"I'm guessing:\")\n",
    "    print(guess)\n",
    "\n",
    "    if guess == answer: \n",
    "        print(\"MINDREADER!!!\")\n",
    "    elif guess < answer:\n",
    "        print(\"Little higher\")\n",
    "    elif guess > answer:\n",
    "        print(\"Little Lower\")\n",
    "        \n",
    "except:\n",
    "    print(\"Invalid Guess\")"
   ]
  }
 ],
 "metadata": {
  "kernelspec": {
   "display_name": "Python 3",
   "language": "python",
   "name": "python3"
  },
  "language_info": {
   "codemirror_mode": {
    "name": "ipython",
    "version": 3
   },
   "file_extension": ".py",
   "mimetype": "text/x-python",
   "name": "python",
   "nbconvert_exporter": "python",
   "pygments_lexer": "ipython3",
   "version": "3.6.3"
  }
 },
 "nbformat": 4,
 "nbformat_minor": 2
}
