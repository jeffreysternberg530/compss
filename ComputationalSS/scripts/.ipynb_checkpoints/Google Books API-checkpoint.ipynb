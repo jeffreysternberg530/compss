{
 "cells": [
  {
   "cell_type": "code",
   "execution_count": 10,
   "metadata": {
    "collapsed": true
   },
   "outputs": [],
   "source": [
    "# Import required libraries\n",
    "from __future__ import division\n",
    "import requests\n",
    "import json\n",
    "import math\n",
    "import matplotlib.pyplot as plt\n",
    "import time\n",
    "import pandas\n",
    "import csv"
   ]
  },
  {
   "cell_type": "code",
   "execution_count": 19,
   "metadata": {},
   "outputs": [
    {
     "name": "stdout",
     "output_type": "stream",
     "text": [
      "{'error': {'errors': [{'domain': 'usageLimits', 'reason': 'keyInvalid', 'message': 'Bad Request'}], 'code': 400, 'message': 'Bad Request'}}\n"
     ]
    }
   ],
   "source": [
    "key = \"AIzaSyBaMxoCIPvgvcovN7FFLblqY\"\n",
    "base_url = \"https://www.googleapis.com/books/v1/volumes\"\n",
    "parms = {\"q\":\"Los Angeles\", 'key':key, \"maxResults\": 10}\n",
    "r = requests.get(base_url, params=parms)\n",
    "rj = r.json()\n",
    "print(rj)"
   ]
  },
  {
   "cell_type": "code",
   "execution_count": 28,
   "metadata": {},
   "outputs": [
    {
     "ename": "SystemExit",
     "evalue": "usage: ipykernel_launcher.py [global_opts] cmd1 [cmd1_opts] [cmd2 [cmd2_opts] ...]\n   or: ipykernel_launcher.py --help [cmd1 cmd2 ...]\n   or: ipykernel_launcher.py --help-commands\n   or: ipykernel_launcher.py cmd --help\n\nerror: option -f not recognized",
     "output_type": "error",
     "traceback": [
      "An exception has occurred, use %tb to see the full traceback.\n",
      "\u001b[0;31mSystemExit\u001b[0m\u001b[0;31m:\u001b[0m usage: ipykernel_launcher.py [global_opts] cmd1 [cmd1_opts] [cmd2 [cmd2_opts] ...]\n   or: ipykernel_launcher.py --help [cmd1 cmd2 ...]\n   or: ipykernel_launcher.py --help-commands\n   or: ipykernel_launcher.py cmd --help\n\nerror: option -f not recognized\n"
     ]
    },
    {
     "name": "stderr",
     "output_type": "stream",
     "text": [
      "/Users/jeffreysternberg/anaconda3/lib/python3.6/site-packages/IPython/core/interactiveshell.py:2870: UserWarning: To exit: use 'exit', 'quit', or Ctrl-D.\n",
      "  warn(\"To exit: use 'exit', 'quit', or Ctrl-D.\", stacklevel=1)\n"
     ]
    }
   ],
   "source": [
    "#!/usr/bin/env python\n",
    "\n",
    "from distutils.core import setup\n",
    "\n",
    "setup(name='googlebooks',\n",
    "      version='1.0',\n",
    "      description='Google Books Api',\n",
    "      author='Peter Hoffmann',\n",
    "      author_email='ph@peter-hoffmann.com',\n",
    "      url='http://www.python.org/sigs/distutils-sig/',\n",
    "      py_modules=['googlebooks'],\n",
    "     )"
   ]
  },
  {
   "cell_type": "code",
   "execution_count": 26,
   "metadata": {
    "collapsed": true
   },
   "outputs": [],
   "source": [
    "import requests\n",
    "import json\n",
    "\n",
    "class Api(object):\n",
    "    \"\"\"Google Books Api\n",
    "    \n",
    "    See: https://developers.google.com/books/\n",
    "    \"\"\"\n",
    "    __BASEURL = 'https://www.googleapis.com/books/v1'\n",
    "    def __init__(self ):\n",
    "       pass \n",
    "\n",
    "    def _get(self, path, params=None):\n",
    "        if params is None:\n",
    "            params = {}\n",
    "        resp = requests.get(self.__BASEURL+path, params=params)\n",
    "        if resp.status_code == 200:\n",
    "            return json.loads(resp.content)\n",
    "\n",
    "        return resp\n",
    "\n",
    "    def get(self, volumeId, **kwargs):\n",
    "        \"\"\"Retrieves a Volume resource based on ID\n",
    "        volumeId -- ID of volume to retrieve.\n",
    "        Optional Parameters:\n",
    "        partner --  Brand results for partner ID.\n",
    "        \n",
    "        projection -- Restrict information returned to a set of selected fields. \n",
    "                    Acceptable values are:\n",
    "                    \"full\" - Includes all volume data.\n",
    "                    \"lite\" - Includes a subset of fields in volumeInfo and accessInfo.\n",
    "        \n",
    "        source --   String to identify the originator of this request.\n",
    "        See: https://developers.google.com/books/docs/v1/reference/volumes/get\n",
    "        \"\"\"\n",
    "        path = '/volumes/'+volumeId\n",
    "        params = dict()\n",
    "        for p in 'partner projection source'.split():\n",
    "            if p in kwargs:\n",
    "                params[p] = kwargs[p]\n",
    "\n",
    "        return self._get(path)\n",
    "    \n",
    "    def list(self, q, **kwargs):\n",
    "        \"\"\"Performs a book search.\n",
    "        q -- Full-text search query string.\n",
    "            \n",
    "            There are special keywords you can specify in the search terms to\n",
    "            search in particular fields, such as:\n",
    "            intitle: Returns results where the text following this keyword is\n",
    "                    found in the title.\n",
    "            inauthor: Returns results where the text following this keyword is\n",
    "                    found in the author.\n",
    "            inpublisher: Returns results where the text following this keyword\n",
    "                    is found in the publisher.\n",
    "            subject: Returns results where the text following this keyword is\n",
    "                    listed in the category list of the volume.\n",
    "            isbn:   Returns results where the text following this keyword is the\n",
    "                    ISBN number.\n",
    "            lccn:   Returns results where the text following this keyword is the\n",
    "                    Library of Congress Control Number.\n",
    "            oclc:   Returns results where the text following this keyword is the\n",
    "                    Online Computer Library Center number.\n",
    "        Optional Parameters:\n",
    "        download -- Restrict to volumes by download availability. \n",
    "                    Acceptable values are:\n",
    "                    \"epub\" - All volumes with epub.\n",
    "        filter --   Filter search results. \n",
    "                    Acceptable values are:\n",
    "                    \"ebooks\" - All Google eBooks.\n",
    "                    \"free-ebooks\" - Google eBook with full volume text viewability.\n",
    "                    \"full\" - Public can view entire volume text.\n",
    "                    \"paid-ebooks\" - Google eBook with a price.\n",
    "                    \"partial\" - Public able to see parts of text.\n",
    "        langRestrict -- Restrict results to books with this language code.\n",
    "        libraryRestrict\t-- Restrict search to this user's library. \n",
    "                    Acceptable values are:\n",
    "                    \"my-library\" - Restrict to the user's library, any shelf.\n",
    "                    \"no-restrict\" - Do not restrict based on user's library.\n",
    "        maxResults -- Maximum number of results to return. Acceptable values are 0 to 40, inclusive.\n",
    "        orderBy\t -- Sort search results. \n",
    "                    Acceptable values are:\n",
    "                    \"newest\" - Most recently published.\n",
    "                    \"relevance\" - Relevance to search terms.\n",
    "        partner\t--  Restrict and brand results for partner ID.\n",
    "        printType -- Restrict to books or magazines. \n",
    "                    Acceptable values are:\n",
    "                    \"all\" - All volume content types.\n",
    "                    \"books\" - Just books.\n",
    "                    \"magazines\" - Just magazines.\n",
    "        projection -- Restrict information returned to a set of selected fields. \n",
    "                    Acceptable values are:\n",
    "                    \"full\" - Includes all volume data.\n",
    "                    \"lite\" - Includes a subset of fields in volumeInfo and accessInfo.\n",
    "        \n",
    "        showPreorders -- Set to true to show books available for preorder. Defaults to false.\n",
    "        source --  String to identify the originator of this request.\n",
    "        startIndex -- Index of the first result to return (starts at 0)\n",
    "        See: https://developers.google.com/books/docs/v1/reference/volumes/list\n",
    "        \"\"\"\n",
    "        path = '/volumes'\n",
    "        params = dict(q=q)\n",
    "        for p in 'download filter langRestrict libraryRestrict maxResults orderBy partner printType projection showPreorders source startIndex'.split():\n",
    "            if p in kwargs:\n",
    "                params[p] = kwargs[p]\n",
    "\n",
    "        return self._get(path, params)\n"
   ]
  },
  {
   "cell_type": "code",
   "execution_count": 27,
   "metadata": {},
   "outputs": [
    {
     "ename": "ModuleNotFoundError",
     "evalue": "No module named 'googlebooks'",
     "output_type": "error",
     "traceback": [
      "\u001b[0;31m---------------------------------------------------------------------------\u001b[0m",
      "\u001b[0;31mModuleNotFoundError\u001b[0m                       Traceback (most recent call last)",
      "\u001b[0;32m<ipython-input-27-31a5d00d454b>\u001b[0m in \u001b[0;36m<module>\u001b[0;34m()\u001b[0m\n\u001b[0;32m----> 1\u001b[0;31m \u001b[0;32mimport\u001b[0m \u001b[0mgooglebooks\u001b[0m\u001b[0;34m\u001b[0m\u001b[0m\n\u001b[0m\u001b[1;32m      2\u001b[0m \u001b[0mapi\u001b[0m \u001b[0;34m=\u001b[0m \u001b[0mgooglebooks\u001b[0m\u001b[0;34m.\u001b[0m\u001b[0mApi\u001b[0m\u001b[0;34m(\u001b[0m\u001b[0;34m)\u001b[0m\u001b[0;34m\u001b[0m\u001b[0m\n\u001b[1;32m      3\u001b[0m \u001b[0mapi\u001b[0m\u001b[0;34m.\u001b[0m\u001b[0mlist\u001b[0m\u001b[0;34m(\u001b[0m\u001b[0;34m'intitle: \"Los Angeles\"'\u001b[0m\u001b[0;34m)\u001b[0m\u001b[0;34m\u001b[0m\u001b[0m\n",
      "\u001b[0;31mModuleNotFoundError\u001b[0m: No module named 'googlebooks'"
     ]
    }
   ],
   "source": [
    "import googlebooks\n",
    "api = googlebooks.Api()\n",
    "api.list('intitle: \"Los Angeles\"')"
   ]
  }
 ],
 "metadata": {
  "kernelspec": {
   "display_name": "Python 3",
   "language": "python",
   "name": "python3"
  },
  "language_info": {
   "codemirror_mode": {
    "name": "ipython",
    "version": 3
   },
   "file_extension": ".py",
   "mimetype": "text/x-python",
   "name": "python",
   "nbconvert_exporter": "python",
   "pygments_lexer": "ipython3",
   "version": "3.6.3"
  }
 },
 "nbformat": 4,
 "nbformat_minor": 2
}
